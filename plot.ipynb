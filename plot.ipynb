{
 "cells": [
  {
   "cell_type": "code",
   "execution_count": 1,
   "id": "bc183405",
   "metadata": {},
   "outputs": [
    {
     "name": "stderr",
     "output_type": "stream",
     "text": [
      "/home/desbian/cosas/deepy/codebase-rag/lib/python3.11/site-packages/tqdm/auto.py:21: TqdmWarning: IProgress not found. Please update jupyter and ipywidgets. See https://ipywidgets.readthedocs.io/en/stable/user_install.html\n",
      "  from .autonotebook import tqdm as notebook_tqdm\n"
     ]
    }
   ],
   "source": [
    "\n",
    "from src.inserter import ChromaCollection, embedding_function\n",
    "from src.text_splitter import load_from_zipfile\n"
   ]
  },
  {
   "cell_type": "code",
   "execution_count": 2,
   "id": "4b2926f6",
   "metadata": {},
   "outputs": [
    {
     "name": "stdout",
     "output_type": "stream",
     "text": [
      "✓ Parseando: pom.xml (xml)\n",
      "  → 1 fragmentos extraídos\n",
      "✓ Parseando: pom.xml (xml)\n",
      "  → 1 fragmentos extraídos\n",
      "✓ Parseando: AppointmentService.java (java)\n",
      "  → 2 fragmentos extraídos\n",
      "✓ Parseando: PasswordRecoveryCodeDao.java (java)\n",
      "  → 2 fragmentos extraídos\n",
      "✓ Parseando: ImageService.java (java)\n",
      "  → 2 fragmentos extraídos\n",
      "✓ Parseando: UserService.java (java)\n",
      "  → 2 fragmentos extraídos\n",
      "✓ Parseando: ServiceDao.java (java)\n",
      "  → 2 fragmentos extraídos\n",
      "✓ Parseando: UserDao.java (java)\n",
      "  → 2 fragmentos extraídos\n",
      "✓ Parseando: ImageDao.java (java)\n",
      "  → 2 fragmentos extraídos\n",
      "✓ Parseando: ManageServiceService.java (java)\n",
      "  → 2 fragmentos extraídos\n",
      "✓ Parseando: RatingService.java (java)\n",
      "  → 2 fragmentos extraídos\n",
      "✓ Parseando: EmailService.java (java)\n",
      "  → 2 fragmentos extraídos\n",
      "✓ Parseando: UserVerificationService.java (java)\n",
      "  → 2 fragmentos extraídos\n",
      "✓ Parseando: AppointmentDao.java (java)\n",
      "  → 2 fragmentos extraídos\n",
      "✓ Parseando: BusinessService.java (java)\n",
      "  → 2 fragmentos extraídos\n",
      "✓ Parseando: QuestionDao.java (java)\n",
      "  → 2 fragmentos extraídos\n",
      "✓ Parseando: BusinessDao.java (java)\n",
      "  → 2 fragmentos extraídos\n",
      "✓ Parseando: QuestionService.java (java)\n",
      "  → 2 fragmentos extraídos\n",
      "✓ Parseando: PasswordRecoveryCodeService.java (java)\n"
     ]
    },
    {
     "name": "stderr",
     "output_type": "stream",
     "text": [
      "/home/desbian/cosas/deepy/codebase-rag/lib/python3.11/site-packages/tree_sitter/__init__.py:36: FutureWarning: Language(path, name) is deprecated. Use Language(ptr, name) instead.\n",
      "  warn(\"{} is deprecated. Use {} instead.\".format(old, new), FutureWarning)\n"
     ]
    },
    {
     "name": "stdout",
     "output_type": "stream",
     "text": [
      "  → 2 fragmentos extraídos\n",
      "✓ Parseando: ServiceService.java (java)\n",
      "  → 2 fragmentos extraídos\n",
      "✓ Parseando: RatingDao.java (java)\n",
      "  → 2 fragmentos extraídos\n",
      "✓ Parseando: UserVerificationDao.java (java)\n",
      "  → 2 fragmentos extraídos\n",
      "✓ Parseando: pom.xml (xml)\n",
      "  → 1 fragmentos extraídos\n",
      "✓ Parseando: ValidImageFile.java (java)\n",
      "  → 1 fragmentos extraídos\n",
      "✓ Parseando: LocationFormatted.java (java)\n",
      "  → 1 fragmentos extraídos\n",
      "✓ Parseando: FieldsValueMatch.java (java)\n",
      "  → 1 fragmentos extraídos\n",
      "✓ Parseando: EmailRegisteredValidator.java (java)\n",
      "  → 2 fragmentos extraídos\n",
      "✓ Parseando: UsernameNotUsedValidator.java (java)\n",
      "  → 2 fragmentos extraídos\n",
      "✓ Parseando: ValidImageFileValidator.java (java)\n",
      "  → 2 fragmentos extraídos\n",
      "✓ Parseando: FieldsValueMatchValidator.java (java)\n",
      "  → 2 fragmentos extraídos\n",
      "✓ Parseando: EmailNotUsed.java (java)\n",
      "  → 1 fragmentos extraídos\n",
      "✓ Parseando: UsernameNotUsed.java (java)\n",
      "  → 1 fragmentos extraídos\n",
      "✓ Parseando: EmailRegistered.java (java)\n",
      "  → 1 fragmentos extraídos\n",
      "✓ Parseando: LocationFormattedValidator.java (java)\n",
      "  → 2 fragmentos extraídos\n",
      "✓ Parseando: EmailNotUsedValidator.java (java)\n",
      "  → 2 fragmentos extraídos\n",
      "✓ Parseando: FutureDate.java (java)\n",
      "  → 1 fragmentos extraídos\n",
      "✓ Parseando: FutureDateValidator.java (java)\n",
      "  → 2 fragmentos extraídos\n",
      "✓ Parseando: BusinessController.java (java)\n",
      "  → 2 fragmentos extraídos\n",
      "✓ Parseando: GlobalController.java (java)\n",
      "  → 2 fragmentos extraídos\n",
      "✓ Parseando: ImageController.java (java)\n",
      "  → 2 fragmentos extraídos\n",
      "✓ Parseando: AppointmentController.java (java)\n",
      "  → 2 fragmentos extraídos\n",
      "✓ Parseando: ServinetController.java (java)\n",
      "  → 2 fragmentos extraídos\n",
      "✓ Parseando: UserController.java (java)\n",
      "  → 2 fragmentos extraídos\n",
      "✓ Parseando: ExceptionHandlingAdvice.java (java)\n",
      "  → 2 fragmentos extraídos\n",
      "✓ Parseando: ServiceController.java (java)\n",
      "  → 2 fragmentos extraídos\n",
      "✓ Parseando: RatingsQuestionsController.java (java)\n",
      "  → 2 fragmentos extraídos\n",
      "✓ Parseando: ModelAttributesControllerAdvice.java (java)\n",
      "  → 2 fragmentos extraídos\n",
      "✓ Parseando: ErrorsController.java (java)\n",
      "  → 2 fragmentos extraídos\n",
      "✓ Parseando: WebAuthConfig.java (java)\n",
      "  → 2 fragmentos extraídos\n",
      "✓ Parseando: EmailConfig.java (java)\n",
      "  → 2 fragmentos extraídos\n",
      "✓ Parseando: WebConfig.java (java)\n",
      "  → 2 fragmentos extraídos\n",
      "✓ Parseando: RegisterUserForm.java (java)\n",
      "  → 2 fragmentos extraídos\n",
      "✓ Parseando: ResponseForm.java (java)\n",
      "  → 2 fragmentos extraídos\n",
      "✓ Parseando: EditServiceForm.java (java)\n",
      "  → 2 fragmentos extraídos\n",
      "✓ Parseando: ReviewsForm.java (java)\n",
      "  → 2 fragmentos extraídos\n",
      "✓ Parseando: PasswordResetForm.java (java)\n",
      "  → 2 fragmentos extraídos\n",
      "✓ Parseando: ServiceForm.java (java)\n",
      "  → 2 fragmentos extraídos\n",
      "✓ Parseando: EditReviewForm.java (java)\n",
      "  → 2 fragmentos extraídos\n",
      "✓ Parseando: RequestPasswordRecoveryForm.java (java)\n",
      "  → 2 fragmentos extraídos\n",
      "✓ Parseando: QuestionForm.java (java)\n",
      "  → 2 fragmentos extraídos\n",
      "✓ Parseando: ValidateUserForm.java (java)\n",
      "  → 2 fragmentos extraídos\n",
      "✓ Parseando: BusinessForm.java (java)\n",
      "  → 2 fragmentos extraídos\n",
      "✓ Parseando: AppointmentForm.java (java)\n",
      "  → 2 fragmentos extraídos\n",
      "✓ Parseando: ServinetAuthControl.java (java)\n",
      "  → 2 fragmentos extraídos\n",
      "✓ Parseando: ServinetAuthUserDetails.java (java)\n",
      "  → 2 fragmentos extraídos\n",
      "✓ Parseando: ServinetUserDetailsService.java (java)\n",
      "  → 2 fragmentos extraídos\n",
      "⊘ Saltando (no soportado): 404.svg\n",
      "⊘ Saltando (no soportado): noResults.svg\n",
      "⊘ Saltando (no soportado): 500.svg\n",
      "⊘ Saltando (no soportado): 400.svg\n",
      "⊘ Saltando (no soportado): 403.svg\n",
      "⊘ Saltando (no soportado): logo.png\n",
      "⊘ Saltando (no soportado): defaultImg.png\n",
      "⊘ Saltando (no soportado): 401.svg\n",
      "⊘ Saltando (no soportado): servinet.png\n",
      "✓ Parseando: web.xml (xml)\n",
      "  → 1 fragmentos extraídos\n",
      "⊘ Saltando (no soportado): appointment.jsp\n",
      "⊘ Saltando (no soportado): postAppointment.jsp\n",
      "⊘ Saltando (no soportado): appointmentScript.jsp\n",
      "⊘ Saltando (no soportado): userBusiness.jsp\n",
      "⊘ Saltando (no soportado): verifyAccount.jsp\n",
      "⊘ Saltando (no soportado): postService.jsp\n",
      "⊘ Saltando (no soportado): profile.jsp\n",
      "⊘ Saltando (no soportado): business.jsp\n",
      "⊘ Saltando (no soportado): navbar.jsp\n",
      "⊘ Saltando (no soportado): service.jsp\n",
      "⊘ Saltando (no soportado): postBusiness.jsp\n",
      "⊘ Saltando (no soportado): userBusinessesAppointments.jsp\n",
      "⊘ Saltando (no soportado): invalidOperation.jsp\n",
      "⊘ Saltando (no soportado): forgotPassword.jsp\n",
      "⊘ Saltando (no soportado): noneAppointment.jsp\n",
      "⊘ Saltando (no soportado): home.jsp\n",
      "⊘ Saltando (no soportado): editService.jsp\n",
      "⊘ Saltando (no soportado): postPersonal.jsp\n",
      "⊘ Saltando (no soportado): businessAppointments.jsp\n",
      "⊘ Saltando (no soportado): businessReviews.jsp\n",
      "⊘ Saltando (no soportado): services.jsp\n",
      "⊘ Saltando (no soportado): resetPassword.jsp\n",
      "⊘ Saltando (no soportado): login.jsp\n",
      "⊘ Saltando (no soportado): userAppointments.jsp\n",
      "⊘ Saltando (no soportado): statistics.jsp\n",
      "⊘ Saltando (no soportado): userQuestions.jsp\n",
      "⊘ Saltando (no soportado): 401.jsp\n",
      "⊘ Saltando (no soportado): 400.jsp\n",
      "⊘ Saltando (no soportado): 500.jsp\n",
      "⊘ Saltando (no soportado): 404.jsp\n",
      "⊘ Saltando (no soportado): 403.jsp\n",
      "⊘ Saltando (no soportado): appointmentPopUp.jsp\n",
      "⊘ Saltando (no soportado): popUp.jsp\n",
      "⊘ Saltando (no soportado): appointmentContainer.jsp\n",
      "⊘ Saltando (no soportado): descriptionPopUp.jsp\n",
      "⊘ Saltando (no soportado): noResults.jsp\n",
      "⊘ Saltando (no soportado): reviews.jsp\n",
      "⊘ Saltando (no soportado): backButton.jsp\n",
      "⊘ Saltando (no soportado): pagination.jsp\n",
      "✓ Parseando: services.css (css)\n",
      "  → 1 fragmentos extraídos\n",
      "✓ Parseando: reviews.css (css)\n",
      "  → 1 fragmentos extraídos\n",
      "✓ Parseando: pagination.css (css)\n",
      "  → 1 fragmentos extraídos\n",
      "✓ Parseando: noneAppointment.css (css)\n",
      "  → 1 fragmentos extraídos\n",
      "✓ Parseando: statistics.css (css)\n",
      "  → 1 fragmentos extraídos\n",
      "✓ Parseando: global.css (css)\n",
      "  → 1 fragmentos extraídos\n",
      "✓ Parseando: navbar.css (css)\n",
      "  → 1 fragmentos extraídos\n",
      "✓ Parseando: post.css (css)\n",
      "  → 1 fragmentos extraídos\n",
      "✓ Parseando: popUp.css (css)\n",
      "  → 1 fragmentos extraídos\n",
      "✓ Parseando: business.css (css)\n",
      "  → 1 fragmentos extraídos\n",
      "✓ Parseando: userQuestions.css (css)\n",
      "  → 1 fragmentos extraídos\n",
      "✓ Parseando: profile.css (css)\n",
      "  → 1 fragmentos extraídos\n",
      "✓ Parseando: service.css (css)\n",
      "  → 1 fragmentos extraídos\n",
      "✓ Parseando: appointment.css (css)\n",
      "  → 1 fragmentos extraídos\n",
      "✓ Parseando: home.css (css)\n",
      "  → 1 fragmentos extraídos\n",
      "✓ Parseando: fetch.js (javascript)\n",
      "  → 2 fragmentos extraídos\n",
      "⊘ Saltando (no soportado): application.properties\n",
      "✓ Parseando: logback-test.xml (xml)\n",
      "  → 1 fragmentos extraídos\n",
      "✓ Parseando: logback.xml (xml)\n",
      "  → 1 fragmentos extraídos\n",
      "⊘ Saltando (no soportado): messages_es.properties\n",
      "⊘ Saltando (no soportado): messages_en.properties\n",
      "⊘ Saltando (no soportado): messages.properties\n",
      "✓ Parseando: pom.xml (xml)\n",
      "  → 1 fragmentos extraídos\n",
      "✓ Parseando: DateIntervalFilter.java (java)\n",
      "  → 2 fragmentos extraídos\n",
      "✓ Parseando: Service.java (java)\n",
      "  → 2 fragmentos extraídos\n",
      "✓ Parseando: Question.java (java)\n",
      "  → 2 fragmentos extraídos\n",
      "✓ Parseando: Appointment.java (java)\n",
      "  → 2 fragmentos extraídos\n",
      "✓ Parseando: Categories.java (java)\n",
      "  → 2 fragmentos extraídos\n",
      "✓ Parseando: Pair.java (java)\n",
      "  → 2 fragmentos extraídos\n",
      "✓ Parseando: Neighbourhoods.java (java)\n",
      "  → 2 fragmentos extraídos\n",
      "✓ Parseando: ServiceContactInfo.java (java)\n",
      "  → 2 fragmentos extraídos\n",
      "✓ Parseando: User.java (java)\n",
      "  → 2 fragmentos extraídos\n",
      "✓ Parseando: Rating.java (java)\n",
      "  → 2 fragmentos extraídos\n",
      "✓ Parseando: Nbservices.java (java)\n",
      "  → 2 fragmentos extraídos\n",
      "✓ Parseando: ImageModel.java (java)\n",
      "  → 2 fragmentos extraídos\n",
      "✓ Parseando: PasswordRecoveryCode.java (java)\n",
      "  → 2 fragmentos extraídos\n",
      "✓ Parseando: Business.java (java)\n",
      "  → 2 fragmentos extraídos\n",
      "✓ Parseando: ServicesOrderFilters.java (java)\n",
      "  → 2 fragmentos extraídos\n",
      "✓ Parseando: UserVerificationCode.java (java)\n",
      "  → 2 fragmentos extraídos\n",
      "✓ Parseando: BasicService.java (java)\n",
      "  → 2 fragmentos extraídos\n",
      "✓ Parseando: RatingsFilters.java (java)\n",
      "  → 2 fragmentos extraídos\n",
      "✓ Parseando: BasicAppointment.java (java)\n",
      "  → 2 fragmentos extraídos\n",
      "✓ Parseando: PricingTypes.java (java)\n",
      "  → 2 fragmentos extraídos\n",
      "✓ Parseando: Ratings.java (java)\n",
      "  → 2 fragmentos extraídos\n",
      "✓ Parseando: DurationTypes.java (java)\n",
      "  → 2 fragmentos extraídos\n",
      "✓ Parseando: UserNotFoundException.java (java)\n",
      "  → 2 fragmentos extraídos\n",
      "✓ Parseando: AppointmentNonExistentException.java (java)\n",
      "  → 2 fragmentos extraídos\n",
      "✓ Parseando: AppointmentAlreadyConfirmed.java (java)\n",
      "  → 2 fragmentos extraídos\n",
      "✓ Parseando: InvalidFilterException.java (java)\n",
      "  → 2 fragmentos extraídos\n",
      "✓ Parseando: ServiceNotFoundException.java (java)\n",
      "  → 2 fragmentos extraídos\n",
      "✓ Parseando: BusinessNotFoundException.java (java)\n",
      "  → 2 fragmentos extraídos\n",
      "✓ Parseando: QuestionNotFoundException.java (java)\n",
      "  → 2 fragmentos extraídos\n",
      "✓ Parseando: InvalidOperationException.java (java)\n",
      "  → 2 fragmentos extraídos\n",
      "✓ Parseando: pom.xml (xml)\n",
      "  → 1 fragmentos extraídos\n",
      "✓ Parseando: ServiceDaoJpaTest.java (java)\n",
      "  → 2 fragmentos extraídos\n",
      "✓ Parseando: RatingsDaoJpaTest.java (java)\n",
      "  → 2 fragmentos extraídos\n",
      "✓ Parseando: BusinessDaoJpaTest.java (java)\n",
      "  → 2 fragmentos extraídos\n",
      "✓ Parseando: AppointmentDaoJpaTest.java (java)\n",
      "  → 2 fragmentos extraídos\n",
      "✓ Parseando: QuestionsDaoJpaTest.java (java)\n",
      "  → 2 fragmentos extraídos\n",
      "✓ Parseando: UserDaoJpaTest.java (java)\n",
      "  → 2 fragmentos extraídos\n",
      "✓ Parseando: TestConfig.java (java)\n",
      "  → 2 fragmentos extraídos\n",
      "✓ Parseando: schema.sql (sql)\n",
      "  → 1 fragmentos extraídos\n",
      "✓ Parseando: pgsql.sql (sql)\n",
      "  → 1 fragmentos extraídos\n",
      "✓ Parseando: UserDaoJpa.java (java)\n",
      "  → 2 fragmentos extraídos\n",
      "✓ Parseando: UserVerificationDaoJpa.java (java)\n",
      "  → 2 fragmentos extraídos\n",
      "✓ Parseando: PasswordRecoveryCodeDaoJpa.java (java)\n",
      "  → 2 fragmentos extraídos\n",
      "✓ Parseando: FilterArgument.java (java)\n",
      "  → 2 fragmentos extraídos\n",
      "✓ Parseando: ServiceDaoJpa.java (java)\n",
      "  → 2 fragmentos extraídos\n",
      "✓ Parseando: ImageDaoJpa.java (java)\n",
      "  → 2 fragmentos extraídos\n",
      "✓ Parseando: QuestionDaoJpa.java (java)\n",
      "  → 2 fragmentos extraídos\n",
      "✓ Parseando: AppointmentDaoJpa.java (java)\n",
      "  → 2 fragmentos extraídos\n",
      "✓ Parseando: RatingDaoJpa.java (java)\n",
      "  → 2 fragmentos extraídos\n",
      "✓ Parseando: BusinessDaoJpa.java (java)\n",
      "  → 2 fragmentos extraídos\n",
      "✓ Parseando: schema.sql (sql)\n",
      "  → 1 fragmentos extraídos\n",
      "✓ Parseando: pom.xml (xml)\n",
      "  → 1 fragmentos extraídos\n",
      "✓ Parseando: AppointmentServiceImplTest.java (java)\n",
      "  → 2 fragmentos extraídos\n",
      "✓ Parseando: UserServiceImplTest.java (java)\n",
      "  → 2 fragmentos extraídos\n",
      "✓ Parseando: RatingServiceImplTest.java (java)\n",
      "  → 2 fragmentos extraídos\n",
      "✓ Parseando: ServiceServiceImplTest.java (java)\n",
      "  → 2 fragmentos extraídos\n",
      "✓ Parseando: PasswordRecoveryCodeServiceImplTest.java (java)\n",
      "  → 2 fragmentos extraídos\n",
      "✓ Parseando: BusinessServiceImplTest.java (java)\n",
      "  → 2 fragmentos extraídos\n",
      "✓ Parseando: ImageServiceImpl.java (java)\n",
      "  → 2 fragmentos extraídos\n",
      "✓ Parseando: BusinessServiceImpl.java (java)\n",
      "  → 2 fragmentos extraídos\n",
      "✓ Parseando: AppointmentServiceImpl.java (java)\n",
      "  → 2 fragmentos extraídos\n",
      "✓ Parseando: EmailServiceImpl.java (java)\n",
      "  → 2 fragmentos extraídos\n",
      "✓ Parseando: ServiceServiceImpl.java (java)\n",
      "  → 2 fragmentos extraídos\n",
      "✓ Parseando: UserVerificationServiceImpl.java (java)\n",
      "  → 2 fragmentos extraídos\n",
      "✓ Parseando: PasswordRecoveryCodeServiceImpl.java (java)\n",
      "  → 2 fragmentos extraídos\n",
      "✓ Parseando: RatingServiceImpl.java (java)\n",
      "  → 2 fragmentos extraídos\n",
      "✓ Parseando: QuestionServiceImpl.java (java)\n",
      "  → 2 fragmentos extraídos\n",
      "✓ Parseando: UserServiceImpl.java (java)\n",
      "  → 2 fragmentos extraídos\n",
      "✓ Parseando: EmailTemplates.java (java)\n",
      "  → 2 fragmentos extraídos\n",
      "✓ Parseando: EmailTypes.java (java)\n",
      "  → 2 fragmentos extraídos\n",
      "⊘ Saltando (no soportado): emailConfig.properties\n",
      "⊘ Saltando (no soportado): email-messages_en.properties\n",
      "⊘ Saltando (no soportado): email-messages.properties\n",
      "⊘ Saltando (no soportado): email-messages_es.properties\n",
      "✓ Parseando: recoverPassword.html (html)\n",
      "  → 1 fragmentos extraídos\n",
      "✓ Parseando: service.html (html)\n",
      "  → 1 fragmentos extraídos\n",
      "✓ Parseando: business.html (html)\n",
      "  → 1 fragmentos extraídos\n",
      "✓ Parseando: question.html (html)\n",
      "  → 1 fragmentos extraídos\n",
      "✓ Parseando: appointment.html (html)\n",
      "  → 1 fragmentos extraídos\n",
      "✓ Parseando: confirmNewPassword.html (html)\n",
      "  → 1 fragmentos extraídos\n",
      "✓ Parseando: userVerification.html (html)\n",
      "  → 1 fragmentos extraídos\n"
     ]
    }
   ],
   "source": [
    "zip_path=\"itba-paw-2024a-04-0203e222159e.zip\"\n",
    "\n",
    "docs=load_from_zipfile(zip_path)\n"
   ]
  },
  {
   "cell_type": "code",
   "execution_count": 3,
   "id": "d9dafd20",
   "metadata": {},
   "outputs": [],
   "source": [
    "chroma=ChromaCollection(\"repoRAG\")\n",
    "chroma.insert_docs(docs=docs)\n",
    "\n",
    "chroma_collection=chroma.chroma_collection\n"
   ]
  },
  {
   "cell_type": "markdown",
   "id": "250e7a59",
   "metadata": {},
   "source": [
    "# plots"
   ]
  },
  {
   "cell_type": "code",
   "execution_count": 18,
   "id": "242bb1fc",
   "metadata": {},
   "outputs": [
    {
     "name": "stderr",
     "output_type": "stream",
     "text": [
      "huggingface/tokenizers: The current process just got forked, after parallelism has already been used. Disabling parallelism to avoid deadlocks...\n",
      "To disable this warning, you can either:\n",
      "\t- Avoid using `tokenizers` before the fork if possible\n",
      "\t- Explicitly set the environment variable TOKENIZERS_PARALLELISM=(true | false)\n"
     ]
    },
    {
     "name": "stdout",
     "output_type": "stream",
     "text": [
      "Requirement already satisfied: umap-learn in ./lib/python3.11/site-packages (0.5.9.post2)\n",
      "Requirement already satisfied: numpy in ./lib/python3.11/site-packages (2.3.3)\n",
      "Requirement already satisfied: pandas in ./lib/python3.11/site-packages (2.3.3)\n",
      "Requirement already satisfied: nbformat in ./lib/python3.11/site-packages (5.10.4)\n",
      "Requirement already satisfied: plotly in ./lib/python3.11/site-packages (6.3.1)\n",
      "Requirement already satisfied: scipy>=1.3.1 in ./lib/python3.11/site-packages (from umap-learn) (1.16.2)\n",
      "Requirement already satisfied: scikit-learn>=1.6 in ./lib/python3.11/site-packages (from umap-learn) (1.7.2)\n",
      "Requirement already satisfied: numba>=0.51.2 in ./lib/python3.11/site-packages (from umap-learn) (0.62.1)\n",
      "Requirement already satisfied: pynndescent>=0.5 in ./lib/python3.11/site-packages (from umap-learn) (0.5.13)\n",
      "Requirement already satisfied: tqdm in ./lib/python3.11/site-packages (from umap-learn) (4.67.1)\n",
      "Requirement already satisfied: python-dateutil>=2.8.2 in ./lib/python3.11/site-packages (from pandas) (2.9.0.post0)\n",
      "Requirement already satisfied: pytz>=2020.1 in ./lib/python3.11/site-packages (from pandas) (2025.2)\n",
      "Requirement already satisfied: tzdata>=2022.7 in ./lib/python3.11/site-packages (from pandas) (2025.2)\n",
      "Requirement already satisfied: fastjsonschema>=2.15 in ./lib/python3.11/site-packages (from nbformat) (2.21.2)\n",
      "Requirement already satisfied: jsonschema>=2.6 in ./lib/python3.11/site-packages (from nbformat) (4.25.1)\n",
      "Requirement already satisfied: jupyter-core!=5.0.*,>=4.12 in ./lib/python3.11/site-packages (from nbformat) (5.8.1)\n",
      "Requirement already satisfied: traitlets>=5.1 in ./lib/python3.11/site-packages (from nbformat) (5.14.3)\n",
      "Requirement already satisfied: narwhals>=1.15.1 in ./lib/python3.11/site-packages (from plotly) (2.8.0)\n",
      "Requirement already satisfied: packaging in ./lib/python3.11/site-packages (from plotly) (24.2)\n",
      "Requirement already satisfied: attrs>=22.2.0 in ./lib/python3.11/site-packages (from jsonschema>=2.6->nbformat) (25.3.0)\n",
      "Requirement already satisfied: jsonschema-specifications>=2023.03.6 in ./lib/python3.11/site-packages (from jsonschema>=2.6->nbformat) (2025.9.1)\n",
      "Requirement already satisfied: referencing>=0.28.4 in ./lib/python3.11/site-packages (from jsonschema>=2.6->nbformat) (0.36.2)\n",
      "Requirement already satisfied: rpds-py>=0.7.1 in ./lib/python3.11/site-packages (from jsonschema>=2.6->nbformat) (0.27.1)\n",
      "Requirement already satisfied: platformdirs>=2.5 in ./lib/python3.11/site-packages (from jupyter-core!=5.0.*,>=4.12->nbformat) (4.5.0)\n",
      "Requirement already satisfied: llvmlite<0.46,>=0.45.0dev0 in ./lib/python3.11/site-packages (from numba>=0.51.2->umap-learn) (0.45.1)\n",
      "Requirement already satisfied: joblib>=0.11 in ./lib/python3.11/site-packages (from pynndescent>=0.5->umap-learn) (1.5.2)\n",
      "Requirement already satisfied: six>=1.5 in ./lib/python3.11/site-packages (from python-dateutil>=2.8.2->pandas) (1.17.0)\n",
      "Requirement already satisfied: threadpoolctl>=3.1.0 in ./lib/python3.11/site-packages (from scikit-learn>=1.6->umap-learn) (3.6.0)\n",
      "Requirement already satisfied: typing-extensions>=4.4.0 in ./lib/python3.11/site-packages (from referencing>=0.28.4->jsonschema>=2.6->nbformat) (4.15.0)\n",
      "Note: you may need to restart the kernel to use updated packages.\n"
     ]
    }
   ],
   "source": [
    "pip install umap-learn numpy pandas nbformat plotly"
   ]
  },
  {
   "cell_type": "code",
   "execution_count": 4,
   "id": "095fb02f",
   "metadata": {},
   "outputs": [
    {
     "name": "stderr",
     "output_type": "stream",
     "text": [
      "/home/desbian/cosas/deepy/codebase-rag/lib/python3.11/site-packages/umap/umap_.py:1952: UserWarning: n_jobs value 1 overridden to 1 by setting random_state. Use no seed for parallelism.\n",
      "  warn(\n"
     ]
    }
   ],
   "source": [
    "import umap\n",
    "import numpy as np\n",
    "from tqdm import tqdm\n",
    "\n",
    "embeddings = chroma_collection.get(include=['embeddings'])['embeddings']\n",
    "umap_transform = umap.UMAP(random_state=0, transform_seed=0).fit(embeddings)"
   ]
  },
  {
   "cell_type": "code",
   "execution_count": 5,
   "id": "04712f1a",
   "metadata": {},
   "outputs": [],
   "source": [
    "def project_embeddings(embeddings, umap_transform):\n",
    "  \"\"\"\n",
    "  Projects high-dimensional embeddings into a 2D space using UMAP.\n",
    "\n",
    "  Parameters:\n",
    "  embeddings (numpy.ndarray): A 2D array-like object containing the embeddings to be transformed,\n",
    "                              where each row represents an embedding vector.\n",
    "  umap_transform (umap.UMAP): A pre-trained UMAP model to perform the transformation.\n",
    "\n",
    "  Returns:\n",
    "  numpy.ndarray: A 2D array where each row is a 2D embedding resulting from the UMAP transformation.\n",
    "  \"\"\"\n",
    "  umap_embeddings = np.empty((len(embeddings),2))   # Mappeamos desde la longitud de nuestros embeddings a 2D\n",
    "\n",
    "  for i, embedding in enumerate(tqdm(embeddings)):\n",
    "      umap_embeddings[i] = umap_transform.transform([embedding])\n",
    "\n",
    "  return umap_embeddings"
   ]
  },
  {
   "cell_type": "code",
   "execution_count": 6,
   "id": "54c6180a",
   "metadata": {},
   "outputs": [
    {
     "name": "stderr",
     "output_type": "stream",
     "text": [
      "100%|██████████| 285/285 [00:09<00:00, 31.25it/s] \n"
     ]
    }
   ],
   "source": [
    "projected_dataset_embeddings = project_embeddings(embeddings, umap_transform)"
   ]
  },
  {
   "cell_type": "code",
   "execution_count": 7,
   "id": "4e2b61f2",
   "metadata": {},
   "outputs": [],
   "source": [
    "import plotly.express as px\n",
    "import pandas as pd\n",
    "\n",
    "def plot_embeddings(projected_dataset_embeddings):\n",
    "    \"\"\"\n",
    "    Plots 2D projected embeddings using Plotly Express.\n",
    "\n",
    "    Parameters:\n",
    "    projected_dataset_embeddings (numpy.ndarray): A 2D array containing the projected embeddings,\n",
    "                                                  where each row represents a point in 2D space.\n",
    "    \"\"\"\n",
    "\n",
    "    df_embeddings = pd.DataFrame(projected_dataset_embeddings, columns=['x', 'y'])\n",
    "\n",
    "    fig = px.scatter(df_embeddings, x='x', y='y', title='Projected Embeddings')\n",
    "\n",
    "    fig.update_layout(\n",
    "        xaxis=dict(visible=False),\n",
    "        yaxis=dict(visible=False),\n",
    "        showlegend=False,\n",
    "        title_x=0.5\n",
    "    )\n",
    "\n",
    "    fig.update_yaxes(scaleanchor=\"x\", scaleratio=1)  # Maintain aspect ratio\n",
    "    fig.show()"
   ]
  },
  {
   "cell_type": "code",
   "execution_count": 8,
   "id": "d1d93c67",
   "metadata": {},
   "outputs": [
    {
     "data": {
      "application/vnd.plotly.v1+json": {
       "config": {
        "plotlyServerURL": "https://plot.ly"
       },
       "data": [
        {
         "hovertemplate": "x=%{x}<br>y=%{y}<extra></extra>",
         "legendgroup": "",
         "marker": {
          "color": "#636efa",
          "symbol": "circle"
         },
         "mode": "markers",
         "name": "",
         "orientation": "v",
         "showlegend": false,
         "type": "scatter",
         "x": {
          "bdata": "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",
          "dtype": "f8"
         },
         "xaxis": "x",
         "y": {
          "bdata": "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",
          "dtype": "f8"
         },
         "yaxis": "y"
        }
       ],
       "layout": {
        "legend": {
         "tracegroupgap": 0
        },
        "showlegend": false,
        "template": {
         "data": {
          "bar": [
           {
            "error_x": {
             "color": "#2a3f5f"
            },
            "error_y": {
             "color": "#2a3f5f"
            },
            "marker": {
             "line": {
              "color": "#E5ECF6",
              "width": 0.5
             },
             "pattern": {
              "fillmode": "overlay",
              "size": 10,
              "solidity": 0.2
             }
            },
            "type": "bar"
           }
          ],
          "barpolar": [
           {
            "marker": {
             "line": {
              "color": "#E5ECF6",
              "width": 0.5
             },
             "pattern": {
              "fillmode": "overlay",
              "size": 10,
              "solidity": 0.2
             }
            },
            "type": "barpolar"
           }
          ],
          "carpet": [
           {
            "aaxis": {
             "endlinecolor": "#2a3f5f",
             "gridcolor": "white",
             "linecolor": "white",
             "minorgridcolor": "white",
             "startlinecolor": "#2a3f5f"
            },
            "baxis": {
             "endlinecolor": "#2a3f5f",
             "gridcolor": "white",
             "linecolor": "white",
             "minorgridcolor": "white",
             "startlinecolor": "#2a3f5f"
            },
            "type": "carpet"
           }
          ],
          "choropleth": [
           {
            "colorbar": {
             "outlinewidth": 0,
             "ticks": ""
            },
            "type": "choropleth"
           }
          ],
          "contour": [
           {
            "colorbar": {
             "outlinewidth": 0,
             "ticks": ""
            },
            "colorscale": [
             [
              0,
              "#0d0887"
             ],
             [
              0.1111111111111111,
              "#46039f"
             ],
             [
              0.2222222222222222,
              "#7201a8"
             ],
             [
              0.3333333333333333,
              "#9c179e"
             ],
             [
              0.4444444444444444,
              "#bd3786"
             ],
             [
              0.5555555555555556,
              "#d8576b"
             ],
             [
              0.6666666666666666,
              "#ed7953"
             ],
             [
              0.7777777777777778,
              "#fb9f3a"
             ],
             [
              0.8888888888888888,
              "#fdca26"
             ],
             [
              1,
              "#f0f921"
             ]
            ],
            "type": "contour"
           }
          ],
          "contourcarpet": [
           {
            "colorbar": {
             "outlinewidth": 0,
             "ticks": ""
            },
            "type": "contourcarpet"
           }
          ],
          "heatmap": [
           {
            "colorbar": {
             "outlinewidth": 0,
             "ticks": ""
            },
            "colorscale": [
             [
              0,
              "#0d0887"
             ],
             [
              0.1111111111111111,
              "#46039f"
             ],
             [
              0.2222222222222222,
              "#7201a8"
             ],
             [
              0.3333333333333333,
              "#9c179e"
             ],
             [
              0.4444444444444444,
              "#bd3786"
             ],
             [
              0.5555555555555556,
              "#d8576b"
             ],
             [
              0.6666666666666666,
              "#ed7953"
             ],
             [
              0.7777777777777778,
              "#fb9f3a"
             ],
             [
              0.8888888888888888,
              "#fdca26"
             ],
             [
              1,
              "#f0f921"
             ]
            ],
            "type": "heatmap"
           }
          ],
          "histogram": [
           {
            "marker": {
             "pattern": {
              "fillmode": "overlay",
              "size": 10,
              "solidity": 0.2
             }
            },
            "type": "histogram"
           }
          ],
          "histogram2d": [
           {
            "colorbar": {
             "outlinewidth": 0,
             "ticks": ""
            },
            "colorscale": [
             [
              0,
              "#0d0887"
             ],
             [
              0.1111111111111111,
              "#46039f"
             ],
             [
              0.2222222222222222,
              "#7201a8"
             ],
             [
              0.3333333333333333,
              "#9c179e"
             ],
             [
              0.4444444444444444,
              "#bd3786"
             ],
             [
              0.5555555555555556,
              "#d8576b"
             ],
             [
              0.6666666666666666,
              "#ed7953"
             ],
             [
              0.7777777777777778,
              "#fb9f3a"
             ],
             [
              0.8888888888888888,
              "#fdca26"
             ],
             [
              1,
              "#f0f921"
             ]
            ],
            "type": "histogram2d"
           }
          ],
          "histogram2dcontour": [
           {
            "colorbar": {
             "outlinewidth": 0,
             "ticks": ""
            },
            "colorscale": [
             [
              0,
              "#0d0887"
             ],
             [
              0.1111111111111111,
              "#46039f"
             ],
             [
              0.2222222222222222,
              "#7201a8"
             ],
             [
              0.3333333333333333,
              "#9c179e"
             ],
             [
              0.4444444444444444,
              "#bd3786"
             ],
             [
              0.5555555555555556,
              "#d8576b"
             ],
             [
              0.6666666666666666,
              "#ed7953"
             ],
             [
              0.7777777777777778,
              "#fb9f3a"
             ],
             [
              0.8888888888888888,
              "#fdca26"
             ],
             [
              1,
              "#f0f921"
             ]
            ],
            "type": "histogram2dcontour"
           }
          ],
          "mesh3d": [
           {
            "colorbar": {
             "outlinewidth": 0,
             "ticks": ""
            },
            "type": "mesh3d"
           }
          ],
          "parcoords": [
           {
            "line": {
             "colorbar": {
              "outlinewidth": 0,
              "ticks": ""
             }
            },
            "type": "parcoords"
           }
          ],
          "pie": [
           {
            "automargin": true,
            "type": "pie"
           }
          ],
          "scatter": [
           {
            "fillpattern": {
             "fillmode": "overlay",
             "size": 10,
             "solidity": 0.2
            },
            "type": "scatter"
           }
          ],
          "scatter3d": [
           {
            "line": {
             "colorbar": {
              "outlinewidth": 0,
              "ticks": ""
             }
            },
            "marker": {
             "colorbar": {
              "outlinewidth": 0,
              "ticks": ""
             }
            },
            "type": "scatter3d"
           }
          ],
          "scattercarpet": [
           {
            "marker": {
             "colorbar": {
              "outlinewidth": 0,
              "ticks": ""
             }
            },
            "type": "scattercarpet"
           }
          ],
          "scattergeo": [
           {
            "marker": {
             "colorbar": {
              "outlinewidth": 0,
              "ticks": ""
             }
            },
            "type": "scattergeo"
           }
          ],
          "scattergl": [
           {
            "marker": {
             "colorbar": {
              "outlinewidth": 0,
              "ticks": ""
             }
            },
            "type": "scattergl"
           }
          ],
          "scattermap": [
           {
            "marker": {
             "colorbar": {
              "outlinewidth": 0,
              "ticks": ""
             }
            },
            "type": "scattermap"
           }
          ],
          "scattermapbox": [
           {
            "marker": {
             "colorbar": {
              "outlinewidth": 0,
              "ticks": ""
             }
            },
            "type": "scattermapbox"
           }
          ],
          "scatterpolar": [
           {
            "marker": {
             "colorbar": {
              "outlinewidth": 0,
              "ticks": ""
             }
            },
            "type": "scatterpolar"
           }
          ],
          "scatterpolargl": [
           {
            "marker": {
             "colorbar": {
              "outlinewidth": 0,
              "ticks": ""
             }
            },
            "type": "scatterpolargl"
           }
          ],
          "scatterternary": [
           {
            "marker": {
             "colorbar": {
              "outlinewidth": 0,
              "ticks": ""
             }
            },
            "type": "scatterternary"
           }
          ],
          "surface": [
           {
            "colorbar": {
             "outlinewidth": 0,
             "ticks": ""
            },
            "colorscale": [
             [
              0,
              "#0d0887"
             ],
             [
              0.1111111111111111,
              "#46039f"
             ],
             [
              0.2222222222222222,
              "#7201a8"
             ],
             [
              0.3333333333333333,
              "#9c179e"
             ],
             [
              0.4444444444444444,
              "#bd3786"
             ],
             [
              0.5555555555555556,
              "#d8576b"
             ],
             [
              0.6666666666666666,
              "#ed7953"
             ],
             [
              0.7777777777777778,
              "#fb9f3a"
             ],
             [
              0.8888888888888888,
              "#fdca26"
             ],
             [
              1,
              "#f0f921"
             ]
            ],
            "type": "surface"
           }
          ],
          "table": [
           {
            "cells": {
             "fill": {
              "color": "#EBF0F8"
             },
             "line": {
              "color": "white"
             }
            },
            "header": {
             "fill": {
              "color": "#C8D4E3"
             },
             "line": {
              "color": "white"
             }
            },
            "type": "table"
           }
          ]
         },
         "layout": {
          "annotationdefaults": {
           "arrowcolor": "#2a3f5f",
           "arrowhead": 0,
           "arrowwidth": 1
          },
          "autotypenumbers": "strict",
          "coloraxis": {
           "colorbar": {
            "outlinewidth": 0,
            "ticks": ""
           }
          },
          "colorscale": {
           "diverging": [
            [
             0,
             "#8e0152"
            ],
            [
             0.1,
             "#c51b7d"
            ],
            [
             0.2,
             "#de77ae"
            ],
            [
             0.3,
             "#f1b6da"
            ],
            [
             0.4,
             "#fde0ef"
            ],
            [
             0.5,
             "#f7f7f7"
            ],
            [
             0.6,
             "#e6f5d0"
            ],
            [
             0.7,
             "#b8e186"
            ],
            [
             0.8,
             "#7fbc41"
            ],
            [
             0.9,
             "#4d9221"
            ],
            [
             1,
             "#276419"
            ]
           ],
           "sequential": [
            [
             0,
             "#0d0887"
            ],
            [
             0.1111111111111111,
             "#46039f"
            ],
            [
             0.2222222222222222,
             "#7201a8"
            ],
            [
             0.3333333333333333,
             "#9c179e"
            ],
            [
             0.4444444444444444,
             "#bd3786"
            ],
            [
             0.5555555555555556,
             "#d8576b"
            ],
            [
             0.6666666666666666,
             "#ed7953"
            ],
            [
             0.7777777777777778,
             "#fb9f3a"
            ],
            [
             0.8888888888888888,
             "#fdca26"
            ],
            [
             1,
             "#f0f921"
            ]
           ],
           "sequentialminus": [
            [
             0,
             "#0d0887"
            ],
            [
             0.1111111111111111,
             "#46039f"
            ],
            [
             0.2222222222222222,
             "#7201a8"
            ],
            [
             0.3333333333333333,
             "#9c179e"
            ],
            [
             0.4444444444444444,
             "#bd3786"
            ],
            [
             0.5555555555555556,
             "#d8576b"
            ],
            [
             0.6666666666666666,
             "#ed7953"
            ],
            [
             0.7777777777777778,
             "#fb9f3a"
            ],
            [
             0.8888888888888888,
             "#fdca26"
            ],
            [
             1,
             "#f0f921"
            ]
           ]
          },
          "colorway": [
           "#636efa",
           "#EF553B",
           "#00cc96",
           "#ab63fa",
           "#FFA15A",
           "#19d3f3",
           "#FF6692",
           "#B6E880",
           "#FF97FF",
           "#FECB52"
          ],
          "font": {
           "color": "#2a3f5f"
          },
          "geo": {
           "bgcolor": "white",
           "lakecolor": "white",
           "landcolor": "#E5ECF6",
           "showlakes": true,
           "showland": true,
           "subunitcolor": "white"
          },
          "hoverlabel": {
           "align": "left"
          },
          "hovermode": "closest",
          "mapbox": {
           "style": "light"
          },
          "paper_bgcolor": "white",
          "plot_bgcolor": "#E5ECF6",
          "polar": {
           "angularaxis": {
            "gridcolor": "white",
            "linecolor": "white",
            "ticks": ""
           },
           "bgcolor": "#E5ECF6",
           "radialaxis": {
            "gridcolor": "white",
            "linecolor": "white",
            "ticks": ""
           }
          },
          "scene": {
           "xaxis": {
            "backgroundcolor": "#E5ECF6",
            "gridcolor": "white",
            "gridwidth": 2,
            "linecolor": "white",
            "showbackground": true,
            "ticks": "",
            "zerolinecolor": "white"
           },
           "yaxis": {
            "backgroundcolor": "#E5ECF6",
            "gridcolor": "white",
            "gridwidth": 2,
            "linecolor": "white",
            "showbackground": true,
            "ticks": "",
            "zerolinecolor": "white"
           },
           "zaxis": {
            "backgroundcolor": "#E5ECF6",
            "gridcolor": "white",
            "gridwidth": 2,
            "linecolor": "white",
            "showbackground": true,
            "ticks": "",
            "zerolinecolor": "white"
           }
          },
          "shapedefaults": {
           "line": {
            "color": "#2a3f5f"
           }
          },
          "ternary": {
           "aaxis": {
            "gridcolor": "white",
            "linecolor": "white",
            "ticks": ""
           },
           "baxis": {
            "gridcolor": "white",
            "linecolor": "white",
            "ticks": ""
           },
           "bgcolor": "#E5ECF6",
           "caxis": {
            "gridcolor": "white",
            "linecolor": "white",
            "ticks": ""
           }
          },
          "title": {
           "x": 0.05
          },
          "xaxis": {
           "automargin": true,
           "gridcolor": "white",
           "linecolor": "white",
           "ticks": "",
           "title": {
            "standoff": 15
           },
           "zerolinecolor": "white",
           "zerolinewidth": 2
          },
          "yaxis": {
           "automargin": true,
           "gridcolor": "white",
           "linecolor": "white",
           "ticks": "",
           "title": {
            "standoff": 15
           },
           "zerolinecolor": "white",
           "zerolinewidth": 2
          }
         }
        },
        "title": {
         "text": "Projected Embeddings",
         "x": 0.5
        },
        "xaxis": {
         "anchor": "y",
         "domain": [
          0,
          1
         ],
         "title": {
          "text": "x"
         },
         "visible": false
        },
        "yaxis": {
         "anchor": "x",
         "domain": [
          0,
          1
         ],
         "scaleanchor": "x",
         "scaleratio": 1,
         "title": {
          "text": "y"
         },
         "visible": false
        }
       }
      }
     },
     "metadata": {},
     "output_type": "display_data"
    }
   ],
   "source": [
    "plot_embeddings(projected_dataset_embeddings)"
   ]
  },
  {
   "cell_type": "code",
   "execution_count": 9,
   "id": "0810f013",
   "metadata": {},
   "outputs": [],
   "source": [
    "import plotly.graph_objects as go\n",
    "import pandas as pd\n",
    "\n",
    "def plot_relevant_docs(projected_dataset_embeddings,\n",
    "                       projected_query_embedding,\n",
    "                       projected_retrieved_embeddings,\n",
    "                       query, title, projected_augmented_embeddings=[]):\n",
    "    \"\"\"\n",
    "    Plots the query, dataset, and retrieved documents in 2D embedding space using Plotly.\n",
    "\n",
    "    Parameters:\n",
    "    projected_dataset_embeddings (numpy.ndarray): 2D array of projected dataset embeddings.\n",
    "    projected_query_embedding (numpy.ndarray): 2D array containing the projected query embedding.\n",
    "    projected_retrieved_embeddings (numpy.ndarray): 2D array of projected embeddings for retrieved documents.\n",
    "    query (str): The query text to be displayed on hover.\n",
    "    title (str): Title of the plot.\n",
    "    \"\"\"\n",
    "    # Convert data to DataFrame for easier plotting\n",
    "    df_dataset = pd.DataFrame(projected_dataset_embeddings, columns=['x', 'y'])\n",
    "    df_query = pd.DataFrame(projected_query_embedding, columns=['x', 'y'])\n",
    "    df_query['text'] = query  # Add query text for hover information\n",
    "    df_retrieved = pd.DataFrame(projected_retrieved_embeddings, columns=['x', 'y'])\n",
    "    df_augmented = pd.DataFrame(projected_augmented_embeddings, columns=['x', 'y'])\n",
    "\n",
    "    # Create a scatter plot for the dataset points\n",
    "    fig = go.Figure()\n",
    "\n",
    "    fig.add_trace(go.Scatter(\n",
    "        x=df_dataset['x'],\n",
    "        y=df_dataset['y'],\n",
    "        mode='markers',\n",
    "        marker=dict(size=10, color='gray'),\n",
    "        name='Dataset Embeddings'\n",
    "    ))\n",
    "\n",
    "    fig.add_trace(go.Scatter(\n",
    "        x=df_query['x'],\n",
    "        y=df_query['y'],\n",
    "        mode='markers',\n",
    "        marker=dict(size=15, symbol='x', color='red'),\n",
    "        name='Query Embedding',\n",
    "        hovertext=[query],  # Add hover text\n",
    "        hoverinfo='text'\n",
    "    ))\n",
    "\n",
    "    fig.add_trace(go.Scatter(\n",
    "        x=df_retrieved['x'],\n",
    "        y=df_retrieved['y'],\n",
    "        mode='markers',\n",
    "        marker=dict(size=12, symbol='circle-open', line=dict(color='green', width=2)),\n",
    "        name='Retrieved Embeddings'\n",
    "    ))\n",
    "\n",
    "    fig.add_trace(go.Scatter(\n",
    "        x=df_augmented['x'],\n",
    "        y=df_augmented['y'],\n",
    "        mode='markers',\n",
    "        marker=dict(size=15, symbol='x', color='pink'),\n",
    "        name='Augmented Embeddings'\n",
    "    ))\n",
    "\n",
    "    fig.update_layout(\n",
    "        title=title,\n",
    "        xaxis=dict(visible=False),\n",
    "        yaxis=dict(visible=False),\n",
    "        showlegend=True,\n",
    "        title_x=0.5\n",
    "    )\n",
    "\n",
    "    fig.show()"
   ]
  },
  {
   "cell_type": "code",
   "execution_count": 10,
   "id": "a5761872",
   "metadata": {},
   "outputs": [],
   "source": [
    "def project_and_plot_relevant_docs(query, title):\n",
    "\n",
    "  retrieved_documents, results = chroma.retrieve_k_similar_docs(query, k=5)\n",
    "  query_embedding = embedding_function([query])[0]\n",
    "  retrieved_embeddings = results['embeddings'][0]\n",
    "\n",
    "  projected_query_embedding = project_embeddings([query_embedding], umap_transform)\n",
    "  projected_retrieved_embeddings = project_embeddings(retrieved_embeddings, umap_transform)\n",
    "\n",
    "  plot_relevant_docs(projected_dataset_embeddings, projected_query_embedding, projected_retrieved_embeddings, query, title)\n",
    "  return retrieved_documents"
   ]
  },
  {
   "cell_type": "code",
   "execution_count": 14,
   "id": "81098e2c",
   "metadata": {},
   "outputs": [
    {
     "name": "stderr",
     "output_type": "stream",
     "text": [
      "100%|██████████| 1/1 [00:00<00:00, 23.35it/s]\n",
      "100%|██████████| 5/5 [00:00<00:00, 58.00it/s]\n"
     ]
    },
    {
     "data": {
      "application/vnd.plotly.v1+json": {
       "config": {
        "plotlyServerURL": "https://plot.ly"
       },
       "data": [
        {
         "marker": {
          "color": "gray",
          "size": 10
         },
         "mode": "markers",
         "name": "Dataset Embeddings",
         "type": "scatter",
         "x": {
          "bdata": "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",
          "dtype": "f8"
         },
         "y": {
          "bdata": "AAAAIHxBBsAAAAAAhOoGwAAAACBplxFAAAAAAJpIAkAAAADgxsUGQAAAAOCUTQNAAAAA4HUx+j8AAADAXefyPwAAAKBn0wxAAAAAIJI9AkAAAABgI58NQAAAAGCLHAJAAAAA4KRBDUAAAABgzVgBQAAAAADJqPk/AAAAwAW++z8AAAAAwKoNQAAAAMDExAFAAAAAALcoEUAAAABgdvgIQAAAAICqTQlAAAAAAC7O7j8AAABg0VAJQAAAAGC6CAFAAAAAoEAKEEAAAABAVREBQAAAAMC2xw1AAAAAoGU6AkAAAAAAwHsQQAAAAEADnwFAAAAAoJMlDUAAAADAE6oBQAAAAMCmmA9AAAAAYK4TAUAAAAAAvikHQAAAAKA3rQJAAAAA4BQ5DkAAAACg7jr4PwAAAKCSBRJAAAAAQOGECEAAAADgRNQIQAAAAEBzXwFAAAAAoMwKBMAAAACgqZ0hQAAAAKBvaSJAAAAAgE1tIkAAAACgxUkhQAAAAADd8SFAAAAAADnQIEAAAADA2WUhQAAAAAAhAiBAAAAAIHRJIEAAAABgRTYiQAAAAMBm7yBAAAAAQGFIIkAAAAAgrU0iQAAAAKAqZSJAAAAAQG/3IUAAAADgbL8hQAAAAMAZ8iBAAAAAYJg1IkAAAAAgQS8iQAAAAODo+SFAAAAAIM6AIkAAAABgy1kGQAAAAIDdK+8/AAAA4PXSAkAAAADg3hH1PwAAAAD3tvI/AAAAwHDv6T8AAACAt/oHQAAAACB1Xu8/AAAAICluB0AAAAAA1xHrPwAAAKCrAwRAAAAAYGV46z8AAACgnP0EQAAAAOCEnvE/AAAAIAaTCUAAAAAgLqnsPwAAAEDDHwlAAAAA4LPC8D8AAADArbsEQAAAACA3d/Y/AAAAAAnrAkAAAACAnnbrPwAAAABtl+A/AAAAoLJP1z8AAACg8FIBQAAAACBhjfk/AAAAYAA45T8AAADgtaG2vwAAACBTYxhAAAAAwPbRIUAAAABAGRkYQAAAAECn2SFAAAAA4CG5FkAAAABgpPUhQAAAACDV2hVAAAAAQDOuIEAAAACAMMoYQAAAAEAEqiFAAAAAoMPKFUAAAACgIBsfQAAAAGCWwRZAAAAAQLUkIUAAAAAgMUIZQAAAAMBB3CFAAAAAQG68F0AAAABgm9wgQAAAACD3aiFAAAAAAKTsIUAAAABALrUXQAAAAEBQ2iFAAAAA4Df7FkAAAACAoCogQAAAAGAzTglAAAAAIM7j4T8AAADAQpcBQAAAAABCb+E/AAAAIAxoDUAAAADA0DjjPwAAAKDLcuc/AAAAQCmqIEAAAADA8P0fQAAAAIDLfSBAAAAAQIawHkAAAAAgxGkgQAAAACBj1h9AAAAAYCB9HkAAAAAgzpkgQAAAAIDMwR5AAAAAINm3IEAAAABgIXgfQAAAAKDreyBAAAAAIFDlHkAAAABA9w0gQAAAAEC0kx9AAAAAwGf7DUAAAAAgCUQbQAAAAOC+mfE/AAAAIA6k5D8AAAAALuMCwAAAAABmYRRAAAAA4ARmxj8AAACgbRMUQAAAAAAted6/AAAAoLMoEkAAAACAKk7gvwAAACD0DxNAAAAAgP3N2r8AAACgoB8PQAAAAMBqxQlAAAAAoKXEFEAAAACgOioGQAAAAADzuxJAAAAAgHDrC0AAAAAARkkQQAAAAKBeQAFAAAAAIFOKE0AAAADg6EPhvwAAAMBQEhRAAAAAYE9Q2L8AAABg478TQAAAAGADPd+/AAAAwD6oEkAAAABgAz3fvwAAAMD3JxJAAAAAAGA6078AAADAx9wTQAAAAEDpG9u/AAAAAPiBEUAAAACgHiMLQAAAAOAo0BJAAAAAAGA6078AAACgq0oTQAAAAEAAQNq/AAAAwBLSE0AAAADAGgoLQAAAACCl5xRAAAAAoGch3L8AAACgHfIUQAAAAEAgeAlAAAAAYIftE0AAAADA5jgJQAAAAEDsMRRAAAAAgNLnCEAAAABguQURQAAAAGDyDAlAAAAAYGN2EEAAAAAASAUNQAAAAICHNBBAAAAAgC3+DUAAAAAgjE8JQAAAACCPxgdAAAAAoHpCDEAAAAAgBtUKQAAAAEAbXBBAAAAAYOm8C0AAAABAu1gQQAAAAACBLApAAAAAoE6uCkAAAABA78sJQAAAAIBc2QLAAAAAIPNvFUAAAAAg2XjPvwAAAOAooxJAAAAAoJ513r8AAADgktoVQAAAAODTkeO/AAAAgLcGFkAAAAAAXzvSvwAAAEBTSxVAAAAAILpg4r8AAACAQmgSQAAAAMChFN2/AAAA4GYiub8AAACAcD3avwAAAKA1vhBAAAAAwLpUE0AAAACALckQQAAAAGAbYLa/AAAA4IE8EEAAAABAmonRPwAAAMCZ1A9AAAAAIOrMtT8AAADgRp8RQAAAAEDLK9W/AAAAgPvhDkAAAACA3IeXvwAAAKDQTvI/AAAAoEmfrr8AAAAgJoQSQAAAAGADuty/AAAAoFdoFEAAAADA0fzIvwAAAIDSDBNAAAAA4JfAxb8AAADghKQRQAAAAADY5bW/AAAAoBv2DkAAAAAADVAEwAAAAEAadBdAAAAAYFsYFkAAAABg8GoVQAAAAEBMURdAAAAAgHrlFkAAAABguWMXQAAAAMAUrRVAAAAAwEbNFUAAAACAO0gUQAAAAICy1hRAAAAA4EcYFUAAAACgU3MVQAAAAMAWz/0/AAAAgNh88z8AAABAMVIDQAAAAACH1fA/AAAA4JwlC0AAAABAq+7gPwAAACD9XQFAAAAAQNAw9z8AAABgWegEQAAAAABUJ+4/AAAAgGVEBUAAAABAvQTiPwAAAKBqUgdAAAAAwMkw1z8AAAAgQakQQAAAAOABHwlAAAAAYOw2CUAAAACAxtfwPwAAAEAjCgpAAAAAYH6e2T8AAAAAuBkQQAAAAMAWIQ1AAAAAILtDEEAAAAAggeAMQAAAAIBb4BxAAAAAgI/uG0AAAACAj+4bQAAAAICP7htAAAAAwJ4HHEAAAABArb8dQAAAAIBb4BxA",
          "dtype": "f8"
         }
        },
        {
         "hoverinfo": "text",
         "hovertext": [
          "Que dependencias hay en los pom.xml"
         ],
         "marker": {
          "color": "red",
          "size": 15,
          "symbol": "x"
         },
         "mode": "markers",
         "name": "Query Embedding",
         "type": "scatter",
         "x": {
          "bdata": "AAAAQHrzJEA=",
          "dtype": "f8"
         },
         "y": {
          "bdata": "AAAAgM+AAcA=",
          "dtype": "f8"
         }
        },
        {
         "marker": {
          "line": {
           "color": "green",
           "width": 2
          },
          "size": 12,
          "symbol": "circle-open"
         },
         "mode": "markers",
         "name": "Retrieved Embeddings",
         "type": "scatter",
         "x": {
          "bdata": "AAAAQPdsJUAAAAAACA4mQAAAAADRBiZAAAAAwJ5GJkAAAABAVj0mQA==",
          "dtype": "f8"
         },
         "y": {
          "bdata": "AAAAIHxBBsAAAACgzAoEwAAAAAANUATAAAAAAC7jAsAAAACAXNkCwA==",
          "dtype": "f8"
         }
        },
        {
         "marker": {
          "color": "pink",
          "size": 15,
          "symbol": "x"
         },
         "mode": "markers",
         "name": "Augmented Embeddings",
         "type": "scatter",
         "x": [],
         "y": []
        }
       ],
       "layout": {
        "showlegend": true,
        "template": {
         "data": {
          "bar": [
           {
            "error_x": {
             "color": "#2a3f5f"
            },
            "error_y": {
             "color": "#2a3f5f"
            },
            "marker": {
             "line": {
              "color": "#E5ECF6",
              "width": 0.5
             },
             "pattern": {
              "fillmode": "overlay",
              "size": 10,
              "solidity": 0.2
             }
            },
            "type": "bar"
           }
          ],
          "barpolar": [
           {
            "marker": {
             "line": {
              "color": "#E5ECF6",
              "width": 0.5
             },
             "pattern": {
              "fillmode": "overlay",
              "size": 10,
              "solidity": 0.2
             }
            },
            "type": "barpolar"
           }
          ],
          "carpet": [
           {
            "aaxis": {
             "endlinecolor": "#2a3f5f",
             "gridcolor": "white",
             "linecolor": "white",
             "minorgridcolor": "white",
             "startlinecolor": "#2a3f5f"
            },
            "baxis": {
             "endlinecolor": "#2a3f5f",
             "gridcolor": "white",
             "linecolor": "white",
             "minorgridcolor": "white",
             "startlinecolor": "#2a3f5f"
            },
            "type": "carpet"
           }
          ],
          "choropleth": [
           {
            "colorbar": {
             "outlinewidth": 0,
             "ticks": ""
            },
            "type": "choropleth"
           }
          ],
          "contour": [
           {
            "colorbar": {
             "outlinewidth": 0,
             "ticks": ""
            },
            "colorscale": [
             [
              0,
              "#0d0887"
             ],
             [
              0.1111111111111111,
              "#46039f"
             ],
             [
              0.2222222222222222,
              "#7201a8"
             ],
             [
              0.3333333333333333,
              "#9c179e"
             ],
             [
              0.4444444444444444,
              "#bd3786"
             ],
             [
              0.5555555555555556,
              "#d8576b"
             ],
             [
              0.6666666666666666,
              "#ed7953"
             ],
             [
              0.7777777777777778,
              "#fb9f3a"
             ],
             [
              0.8888888888888888,
              "#fdca26"
             ],
             [
              1,
              "#f0f921"
             ]
            ],
            "type": "contour"
           }
          ],
          "contourcarpet": [
           {
            "colorbar": {
             "outlinewidth": 0,
             "ticks": ""
            },
            "type": "contourcarpet"
           }
          ],
          "heatmap": [
           {
            "colorbar": {
             "outlinewidth": 0,
             "ticks": ""
            },
            "colorscale": [
             [
              0,
              "#0d0887"
             ],
             [
              0.1111111111111111,
              "#46039f"
             ],
             [
              0.2222222222222222,
              "#7201a8"
             ],
             [
              0.3333333333333333,
              "#9c179e"
             ],
             [
              0.4444444444444444,
              "#bd3786"
             ],
             [
              0.5555555555555556,
              "#d8576b"
             ],
             [
              0.6666666666666666,
              "#ed7953"
             ],
             [
              0.7777777777777778,
              "#fb9f3a"
             ],
             [
              0.8888888888888888,
              "#fdca26"
             ],
             [
              1,
              "#f0f921"
             ]
            ],
            "type": "heatmap"
           }
          ],
          "histogram": [
           {
            "marker": {
             "pattern": {
              "fillmode": "overlay",
              "size": 10,
              "solidity": 0.2
             }
            },
            "type": "histogram"
           }
          ],
          "histogram2d": [
           {
            "colorbar": {
             "outlinewidth": 0,
             "ticks": ""
            },
            "colorscale": [
             [
              0,
              "#0d0887"
             ],
             [
              0.1111111111111111,
              "#46039f"
             ],
             [
              0.2222222222222222,
              "#7201a8"
             ],
             [
              0.3333333333333333,
              "#9c179e"
             ],
             [
              0.4444444444444444,
              "#bd3786"
             ],
             [
              0.5555555555555556,
              "#d8576b"
             ],
             [
              0.6666666666666666,
              "#ed7953"
             ],
             [
              0.7777777777777778,
              "#fb9f3a"
             ],
             [
              0.8888888888888888,
              "#fdca26"
             ],
             [
              1,
              "#f0f921"
             ]
            ],
            "type": "histogram2d"
           }
          ],
          "histogram2dcontour": [
           {
            "colorbar": {
             "outlinewidth": 0,
             "ticks": ""
            },
            "colorscale": [
             [
              0,
              "#0d0887"
             ],
             [
              0.1111111111111111,
              "#46039f"
             ],
             [
              0.2222222222222222,
              "#7201a8"
             ],
             [
              0.3333333333333333,
              "#9c179e"
             ],
             [
              0.4444444444444444,
              "#bd3786"
             ],
             [
              0.5555555555555556,
              "#d8576b"
             ],
             [
              0.6666666666666666,
              "#ed7953"
             ],
             [
              0.7777777777777778,
              "#fb9f3a"
             ],
             [
              0.8888888888888888,
              "#fdca26"
             ],
             [
              1,
              "#f0f921"
             ]
            ],
            "type": "histogram2dcontour"
           }
          ],
          "mesh3d": [
           {
            "colorbar": {
             "outlinewidth": 0,
             "ticks": ""
            },
            "type": "mesh3d"
           }
          ],
          "parcoords": [
           {
            "line": {
             "colorbar": {
              "outlinewidth": 0,
              "ticks": ""
             }
            },
            "type": "parcoords"
           }
          ],
          "pie": [
           {
            "automargin": true,
            "type": "pie"
           }
          ],
          "scatter": [
           {
            "fillpattern": {
             "fillmode": "overlay",
             "size": 10,
             "solidity": 0.2
            },
            "type": "scatter"
           }
          ],
          "scatter3d": [
           {
            "line": {
             "colorbar": {
              "outlinewidth": 0,
              "ticks": ""
             }
            },
            "marker": {
             "colorbar": {
              "outlinewidth": 0,
              "ticks": ""
             }
            },
            "type": "scatter3d"
           }
          ],
          "scattercarpet": [
           {
            "marker": {
             "colorbar": {
              "outlinewidth": 0,
              "ticks": ""
             }
            },
            "type": "scattercarpet"
           }
          ],
          "scattergeo": [
           {
            "marker": {
             "colorbar": {
              "outlinewidth": 0,
              "ticks": ""
             }
            },
            "type": "scattergeo"
           }
          ],
          "scattergl": [
           {
            "marker": {
             "colorbar": {
              "outlinewidth": 0,
              "ticks": ""
             }
            },
            "type": "scattergl"
           }
          ],
          "scattermap": [
           {
            "marker": {
             "colorbar": {
              "outlinewidth": 0,
              "ticks": ""
             }
            },
            "type": "scattermap"
           }
          ],
          "scattermapbox": [
           {
            "marker": {
             "colorbar": {
              "outlinewidth": 0,
              "ticks": ""
             }
            },
            "type": "scattermapbox"
           }
          ],
          "scatterpolar": [
           {
            "marker": {
             "colorbar": {
              "outlinewidth": 0,
              "ticks": ""
             }
            },
            "type": "scatterpolar"
           }
          ],
          "scatterpolargl": [
           {
            "marker": {
             "colorbar": {
              "outlinewidth": 0,
              "ticks": ""
             }
            },
            "type": "scatterpolargl"
           }
          ],
          "scatterternary": [
           {
            "marker": {
             "colorbar": {
              "outlinewidth": 0,
              "ticks": ""
             }
            },
            "type": "scatterternary"
           }
          ],
          "surface": [
           {
            "colorbar": {
             "outlinewidth": 0,
             "ticks": ""
            },
            "colorscale": [
             [
              0,
              "#0d0887"
             ],
             [
              0.1111111111111111,
              "#46039f"
             ],
             [
              0.2222222222222222,
              "#7201a8"
             ],
             [
              0.3333333333333333,
              "#9c179e"
             ],
             [
              0.4444444444444444,
              "#bd3786"
             ],
             [
              0.5555555555555556,
              "#d8576b"
             ],
             [
              0.6666666666666666,
              "#ed7953"
             ],
             [
              0.7777777777777778,
              "#fb9f3a"
             ],
             [
              0.8888888888888888,
              "#fdca26"
             ],
             [
              1,
              "#f0f921"
             ]
            ],
            "type": "surface"
           }
          ],
          "table": [
           {
            "cells": {
             "fill": {
              "color": "#EBF0F8"
             },
             "line": {
              "color": "white"
             }
            },
            "header": {
             "fill": {
              "color": "#C8D4E3"
             },
             "line": {
              "color": "white"
             }
            },
            "type": "table"
           }
          ]
         },
         "layout": {
          "annotationdefaults": {
           "arrowcolor": "#2a3f5f",
           "arrowhead": 0,
           "arrowwidth": 1
          },
          "autotypenumbers": "strict",
          "coloraxis": {
           "colorbar": {
            "outlinewidth": 0,
            "ticks": ""
           }
          },
          "colorscale": {
           "diverging": [
            [
             0,
             "#8e0152"
            ],
            [
             0.1,
             "#c51b7d"
            ],
            [
             0.2,
             "#de77ae"
            ],
            [
             0.3,
             "#f1b6da"
            ],
            [
             0.4,
             "#fde0ef"
            ],
            [
             0.5,
             "#f7f7f7"
            ],
            [
             0.6,
             "#e6f5d0"
            ],
            [
             0.7,
             "#b8e186"
            ],
            [
             0.8,
             "#7fbc41"
            ],
            [
             0.9,
             "#4d9221"
            ],
            [
             1,
             "#276419"
            ]
           ],
           "sequential": [
            [
             0,
             "#0d0887"
            ],
            [
             0.1111111111111111,
             "#46039f"
            ],
            [
             0.2222222222222222,
             "#7201a8"
            ],
            [
             0.3333333333333333,
             "#9c179e"
            ],
            [
             0.4444444444444444,
             "#bd3786"
            ],
            [
             0.5555555555555556,
             "#d8576b"
            ],
            [
             0.6666666666666666,
             "#ed7953"
            ],
            [
             0.7777777777777778,
             "#fb9f3a"
            ],
            [
             0.8888888888888888,
             "#fdca26"
            ],
            [
             1,
             "#f0f921"
            ]
           ],
           "sequentialminus": [
            [
             0,
             "#0d0887"
            ],
            [
             0.1111111111111111,
             "#46039f"
            ],
            [
             0.2222222222222222,
             "#7201a8"
            ],
            [
             0.3333333333333333,
             "#9c179e"
            ],
            [
             0.4444444444444444,
             "#bd3786"
            ],
            [
             0.5555555555555556,
             "#d8576b"
            ],
            [
             0.6666666666666666,
             "#ed7953"
            ],
            [
             0.7777777777777778,
             "#fb9f3a"
            ],
            [
             0.8888888888888888,
             "#fdca26"
            ],
            [
             1,
             "#f0f921"
            ]
           ]
          },
          "colorway": [
           "#636efa",
           "#EF553B",
           "#00cc96",
           "#ab63fa",
           "#FFA15A",
           "#19d3f3",
           "#FF6692",
           "#B6E880",
           "#FF97FF",
           "#FECB52"
          ],
          "font": {
           "color": "#2a3f5f"
          },
          "geo": {
           "bgcolor": "white",
           "lakecolor": "white",
           "landcolor": "#E5ECF6",
           "showlakes": true,
           "showland": true,
           "subunitcolor": "white"
          },
          "hoverlabel": {
           "align": "left"
          },
          "hovermode": "closest",
          "mapbox": {
           "style": "light"
          },
          "paper_bgcolor": "white",
          "plot_bgcolor": "#E5ECF6",
          "polar": {
           "angularaxis": {
            "gridcolor": "white",
            "linecolor": "white",
            "ticks": ""
           },
           "bgcolor": "#E5ECF6",
           "radialaxis": {
            "gridcolor": "white",
            "linecolor": "white",
            "ticks": ""
           }
          },
          "scene": {
           "xaxis": {
            "backgroundcolor": "#E5ECF6",
            "gridcolor": "white",
            "gridwidth": 2,
            "linecolor": "white",
            "showbackground": true,
            "ticks": "",
            "zerolinecolor": "white"
           },
           "yaxis": {
            "backgroundcolor": "#E5ECF6",
            "gridcolor": "white",
            "gridwidth": 2,
            "linecolor": "white",
            "showbackground": true,
            "ticks": "",
            "zerolinecolor": "white"
           },
           "zaxis": {
            "backgroundcolor": "#E5ECF6",
            "gridcolor": "white",
            "gridwidth": 2,
            "linecolor": "white",
            "showbackground": true,
            "ticks": "",
            "zerolinecolor": "white"
           }
          },
          "shapedefaults": {
           "line": {
            "color": "#2a3f5f"
           }
          },
          "ternary": {
           "aaxis": {
            "gridcolor": "white",
            "linecolor": "white",
            "ticks": ""
           },
           "baxis": {
            "gridcolor": "white",
            "linecolor": "white",
            "ticks": ""
           },
           "bgcolor": "#E5ECF6",
           "caxis": {
            "gridcolor": "white",
            "linecolor": "white",
            "ticks": ""
           }
          },
          "title": {
           "x": 0.05
          },
          "xaxis": {
           "automargin": true,
           "gridcolor": "white",
           "linecolor": "white",
           "ticks": "",
           "title": {
            "standoff": 15
           },
           "zerolinecolor": "white",
           "zerolinewidth": 2
          },
          "yaxis": {
           "automargin": true,
           "gridcolor": "white",
           "linecolor": "white",
           "ticks": "",
           "title": {
            "standoff": 15
           },
           "zerolinecolor": "white",
           "zerolinewidth": 2
          }
         }
        },
        "title": {
         "text": "Que dependencias hay en los pom.xml",
         "x": 0.5
        },
        "xaxis": {
         "visible": false
        },
        "yaxis": {
         "visible": false
        }
       }
      }
     },
     "metadata": {},
     "output_type": "display_data"
    },
    {
     "data": {
      "text/plain": [
       "['<?xml version=\"1.0\" encoding=\"UTF-8\" standalone=\"no\"?>\\n<project xmlns=\"http://maven.apache.org/POM/4.0.0\" xmlns:xsi=\"http://www.w3.org/2001/XMLSchema-instance\" xsi:schemaLocation=\"http://maven.apache.org/POM/4.0.0 http://maven.apache.org/xsd/maven-4.0.0.xsd\">\\n  <modelVersion>4.0.0</modelVersion>\\n  <groupId>ar.edu.itba.paw</groupId>\\n  <artifactId>paw2024</artifactId>\\n  <version>1.0-SNAPSHOT</version>\\n  <packaging>pom</packaging>\\n  <name>paw2024</name>\\n\\n  <properties>\\n    <project.build.sourceEncoding>UTF-8</project.build.sourceEncoding>\\n    <maven.compiler.source>21</maven.compiler.source>\\n    <maven.compiler.target>21</maven.compiler.target>\\n    <common-fileupload.version>1.3.1</common-fileupload.version>\\n    <spring.version>5.3.33</spring.version>\\n    <servlet-api.version>2.5</servlet-api.version>\\n    <jstl.version>1.2</jstl.version>\\n    <postgresql.version>42.2.5</postgresql.version>\\n    <mockito.version>2.25.1</mockito.version>\\n    <junit.version>4.13.2</junit.version>\\n    <hsqldb.version>2.3.1</hsqldb.version>\\n    <javax.mail.version>1.6.2</javax.mail.version>\\n    <thymeleaf.version>3.1.2.RELEASE</thymeleaf.version>\\n    <thymeleaf.extras.version>3.0.4.RELEASE</thymeleaf.extras.version>\\n    <javax.validation-api.version>2.0.1.Final</javax.validation-api.version>\\n    <org.hibernate.validator>6.2.4.Final</org.hibernate.validator>\\n    <spring-security.version>5.8.11</spring-security.version>\\n    <org.slf4j.version>2.0.6</org.slf4j.version>\\n    <logback.version>1.5.6</logback.version>\\n    <logback-ext-spring.version>0.1.1</logback-ext-spring.version>\\n    <org.hibernate.version>5.6.15.Final</org.hibernate.version>\\n    <jpa.version>2.2</jpa.version>\\n  </properties>\\n\\n  <dependencyManagement>\\n    <dependencies>\\n      <dependency>\\n        <groupId>commons-fileupload</groupId>\\n        <artifactId>commons-fileupload</artifactId>\\n        <version>${common-fileupload.version}</version>\\n      </dependency>\\n      <dependency>\\n        <groupId>org.springframework.security</groupId>\\n        <artifactId>spring-security-core</artifactId>\\n        <version>${spring-security.version}</version>\\n      </dependency>\\n      <dependency>\\n        <groupId>org.springframework.security</groupId>\\n        <artifactId>spring-security-web</artifactId>\\n        <version>${spring-security.version}</version>\\n      </dependency>\\n      <dependency>\\n        <groupId>org.springframework.security</groupId>\\n        <artifactId>spring-security-config</artifactId>\\n        <version>${spring-security.version}</version>\\n      </dependency>\\n      <dependency>\\n        <groupId>org.slf4j</groupId>\\n        <artifactId>slf4j-api</artifactId>\\n        <version>${org.slf4j.version}</version>\\n      </dependency>\\n      <dependency>\\n        <groupId>ch.qos.logback</groupId>\\n        <artifactId>logback-classic</artifactId>\\n        <version>${logback.version}</version>\\n      </dependency>\\n      <dependency>\\n        <groupId>org.springframework</groupId>\\n        <artifactId>spring-orm</artifactId>\\n        <version>${spring.version}</version>\\n      </dependency>\\n      <dependency>\\n        <groupId>org.hibernate</groupId>\\n        <artifactId>hibernate-core</artifactId>\\n        <version>${org.hibernate.version}</version>\\n      </dependency>\\n      <dependency>\\n        <groupId>org.hibernate</groupId>\\n        <artifactId>hibernate-entitymanager</artifactId>\\n        <version>${org.hibernate.version}</version>\\n      </dependency>\\n      <dependency>\\n        <groupId>javax.persistence</groupId>\\n        <artifactId>javax.persistence-api</artifactId>\\n        <version>${jpa.version}</version>\\n      </dependency>\\n      <dependency>\\n        <groupId>ch.qos.logback</groupId>\\n        <artifactId>logback-core</artifactId>\\n        <version>${logback.version}</version>\\n      </dependency>\\n      <dependency>\\n        <groupId>org.slf4j</groupId>\\n        <artifactId>jcl-over-slf4j</artifactId>\\n        <version>${org.slf4j.version}</version>\\n      </dependency>\\n      <dependency>\\n        <groupId>org.logback-extensions</groupId>\\n        <artifactId>logback-ext-spring</artifactId>\\n        <version>${logback-ext-spring.version}</version>\\n        <scope>runtime</scope>\\n      </dependency>\\n      <dependency>\\n        <groupId>org.springframework</groupId>\\n        <artifactId>spring-webmvc</artifactId>\\n        <version>${spring.version}</version>\\n      </dependency>\\n      <dependency>\\n        <groupId>org.springframework</groupId>\\n        <artifactId>spring-context</artifactId>\\n        <version>${spring.version}</version>\\n      </dependency>\\n      <dependency>\\n        <groupId>org.springframework</groupId>\\n        <artifactId>spring-tx</artifactId>\\n        <version>${spring.version}</version>\\n      </dependency>\\n      <dependency>\\n        <groupId>javax.servlet</groupId>\\n        <artifactId>servlet-api</artifactId>\\n        <version>${servlet-api.version}</version>\\n        <scope>provided</scope>\\n      </dependency>\\n      <dependency>\\n        <groupId>javax.servlet</groupId>\\n        <artifactId>jstl</artifactId>\\n        <version>${jstl.version}</version>\\n      </dependency>\\n      <dependency>\\n        <groupId>org.postgresql</groupId>\\n        <artifactId>postgresql</artifactId>\\n        <version>${postgresql.version}</version>\\n      </dependency>\\n      <dependency>\\n        <groupId>org.mockito</groupId>\\n        <artifactId>mockito-core</artifactId>\\n        <version>${mockito.version}</version>\\n        <scope>test</scope>\\n      </dependency>\\n      <dependency>\\n        <groupId>junit</groupId>\\n        <artifactId>junit</artifactId>\\n        <version>${junit.version}</version>\\n        <scope>test</scope>\\n      </dependency>\\n      <dependency>\\n        <groupId>org.springframework</groupId>\\n        <artifactId>spring-test</artifactId>\\n        <version>${spring.version}</version>\\n        <scope>test</scope>\\n      </dependency>\\n      <dependency>\\n        <groupId>org.hsqldb</groupId>\\n        <artifactId>hsqldb</artifactId>\\n        <version>${hsqldb.version}</version>\\n        <scope>test</scope>\\n      </dependency>\\n      <dependency>\\n        <groupId>org.springframework</groupId>\\n        <artifactId>spring-context-support</artifactId>\\n        <version>${spring.version}</version>\\n      </dependency>\\n      <dependency>\\n        <groupId>com.sun.mail</groupId>\\n        <artifactId>javax.mail</artifactId>\\n        <version>${javax.mail.version}</version>\\n      </dependency>\\n      <dependency>\\n        <groupId>org.thymeleaf</groupId>\\n        <artifactId>thymeleaf</artifactId>\\n        <version>${thymeleaf.version}</version>\\n      </dependency>\\n      <dependency>\\n        <groupId>org.thymeleaf</groupId>\\n        <artifactId>thymeleaf-spring5</artifactId>\\n        <version>${thymeleaf.version}</version>\\n      </dependency>\\n      <dependency>\\n        <groupId>org.thymeleaf.extras</groupId>\\n        <artifactId>thymeleaf-extras-java8time</artifactId>\\n        <version>${thymeleaf.extras.version}</version>\\n      </dependency>\\n      <dependency>\\n        <groupId>javax.validation</groupId>\\n        <artifactId>validation-api</artifactId>\\n        <version>${javax.validation-api.version}</version>\\n      </dependency>\\n      <dependency>\\n        <groupId>org.hibernate</groupId>\\n        <artifactId>hibernate-validator</artifactId>\\n        <version>${org.hibernate.validator}</version>\\n      </dependency>\\n    </dependencies>\\n\\n  </dependencyManagement>\\n  <modules>\\n    <module>webapp</module>\\n    <module>services</module>\\n    <module>interfaces</module>\\n    <module>models</module>\\n    <module>persistance</module>\\n  </modules>\\n</project>\\n',\n",
       " '<?xml version=\"1.0\" encoding=\"UTF-8\"?>\\n<project xmlns=\"http://maven.apache.org/POM/4.0.0\" xmlns:xsi=\"http://www.w3.org/2001/XMLSchema-instance\" xsi:schemaLocation=\"http://maven.apache.org/POM/4.0.0 http://maven.apache.org/xsd/maven-4.0.0.xsd\">\\n  <modelVersion>4.0.0</modelVersion>\\n  <parent>\\n    <artifactId>paw2024</artifactId>\\n    <groupId>ar.edu.itba.paw</groupId>\\n    <version>1.0-SNAPSHOT</version>\\n  </parent>\\n\\n  <artifactId>webapp</artifactId>\\n  <version>1.0-SNAPSHOT</version>\\n  <packaging>war</packaging>\\n\\n  <name>webapp Maven Webapp</name>\\n  <!-- FIXME change it to the project\\'s website -->\\n  <url>http://www.example.com</url>\\n\\n\\n  <dependencies>\\n    <dependency>\\n      <groupId>javax.validation</groupId>\\n      <artifactId>validation-api</artifactId>\\n    </dependency>\\n    <dependency>\\n      <groupId>org.hibernate</groupId>\\n      <artifactId>hibernate-validator</artifactId>\\n    </dependency>\\n    <dependency>\\n      <groupId>org.springframework.security</groupId>\\n      <artifactId>spring-security-core</artifactId>\\n    </dependency>\\n    <dependency>\\n      <groupId>org.springframework.security</groupId>\\n      <artifactId>spring-security-web</artifactId>\\n    </dependency>\\n    <dependency>\\n      <groupId>org.springframework.security</groupId>\\n      <artifactId>spring-security-config</artifactId>\\n    </dependency>\\n    <dependency>\\n      <groupId>org.slf4j</groupId>\\n      <artifactId>slf4j-api</artifactId>\\n    </dependency>\\n    <dependency>\\n      <groupId>ch.qos.logback</groupId>\\n      <artifactId>logback-classic</artifactId>\\n    </dependency>\\n    <dependency>\\n      <groupId>ch.qos.logback</groupId>\\n      <artifactId>logback-core</artifactId>\\n    </dependency>\\n    <dependency>\\n      <groupId>org.slf4j</groupId>\\n      <artifactId>jcl-over-slf4j</artifactId>\\n    </dependency>\\n    <dependency>\\n      <groupId>org.logback-extensions</groupId>\\n      <artifactId>logback-ext-spring</artifactId>\\n    </dependency>\\n    <dependency>\\n      <groupId>javax.servlet</groupId>\\n      <artifactId>servlet-api</artifactId>\\n    </dependency>\\n    <dependency>\\n      <groupId>javax.servlet</groupId>\\n      <artifactId>jstl</artifactId>\\n    </dependency>\\n    <dependency>\\n      <groupId>ar.edu.itba.paw</groupId>\\n      <artifactId>services</artifactId>\\n      <version>${project.version}</version>\\n      <scope>runtime</scope>\\n    </dependency>\\n    <dependency>\\n      <groupId>ar.edu.itba.paw</groupId>\\n      <artifactId>persistance</artifactId>\\n      <version>${project.version}</version>\\n      <scope>runtime</scope>\\n    </dependency>\\n    <dependency>\\n      <groupId>org.springframework</groupId>\\n      <artifactId>spring-orm</artifactId>\\n    </dependency>\\n    <dependency>\\n      <groupId>ar.edu.itba.paw</groupId>\\n      <artifactId>interfaces</artifactId>\\n      <version>${project.version}</version>\\n    </dependency>\\n    <dependency>\\n      <groupId>org.postgresql</groupId>\\n      <artifactId>postgresql</artifactId>\\n    </dependency>\\n    <dependency>\\n      <groupId>commons-fileupload</groupId>\\n      <artifactId>commons-fileupload</artifactId>\\n    </dependency>\\n    <dependency>\\n      <groupId>org.springframework</groupId>\\n      <artifactId>spring-webmvc</artifactId>\\n    </dependency>\\n    <dependency>\\n      <groupId>org.springframework</groupId>\\n      <artifactId>spring-context-support</artifactId>\\n    </dependency>\\n    <dependency>\\n      <groupId>org.thymeleaf</groupId>\\n      <artifactId>thymeleaf-spring5</artifactId>\\n    </dependency>\\n  </dependencies>\\n\\n  <build>\\n    <finalName>webapp</finalName>\\n    <pluginManagement><!-- lock down plugins versions to avoid using Maven defaults (may be moved to parent pom) -->\\n      <plugins>\\n        <plugin>\\n          <groupId>org.apache.maven.plugins</groupId>\\n          <artifactId>maven-war-plugin</artifactId>\\n          <version>2.6</version>\\n          <configuration>\\n            <packagingExcludes>**/logback-test.xml</packagingExcludes>\\n          </configuration>\\n        </plugin>\\n        <plugin>\\n          <artifactId>maven-clean-plugin</artifactId>\\n          <version>3.1.0</version>\\n        </plugin>\\n        <!-- see http://maven.apache.org/ref/current/maven-core/default-bindings.html#Plugin_bindings_for_war_packaging -->\\n        <plugin>\\n          <artifactId>maven-resources-plugin</artifactId>\\n          <version>3.0.2</version>\\n        </plugin>\\n        <plugin>\\n          <artifactId>maven-compiler-plugin</artifactId>\\n          <version>3.8.0</version>\\n        </plugin>\\n        <plugin>\\n          <artifactId>maven-surefire-plugin</artifactId>\\n          <version>2.22.1</version>\\n        </plugin>\\n        <plugin>\\n          <artifactId>maven-war-plugin</artifactId>\\n          <version>3.2.2</version>\\n        </plugin>\\n        <plugin>\\n          <artifactId>maven-install-plugin</artifactId>\\n          <version>2.5.2</version>\\n        </plugin>\\n        <plugin>\\n          <artifactId>maven-deploy-plugin</artifactId>\\n          <version>2.8.2</version>\\n        </plugin>\\n      </plugins>\\n    </pluginManagement>\\n  </build>\\n</project>\\n',\n",
       " '<?xml version=\"1.0\" encoding=\"UTF-8\"?>\\n<project xmlns=\"http://maven.apache.org/POM/4.0.0\" xmlns:xsi=\"http://www.w3.org/2001/XMLSchema-instance\" xsi:schemaLocation=\"http://maven.apache.org/POM/4.0.0 http://maven.apache.org/xsd/maven-4.0.0.xsd\">\\n  <modelVersion>4.0.0</modelVersion>\\n  <parent>\\n    <artifactId>paw2024</artifactId>\\n    <groupId>ar.edu.itba.paw</groupId>\\n    <version>1.0-SNAPSHOT</version>\\n  </parent>\\n\\n  <groupId>ar.edu.itba.paw</groupId>\\n  <artifactId>services</artifactId>\\n  <version>1.0-SNAPSHOT</version>\\n\\n  <name>services</name>\\n  <!-- FIXME change it to the project\\'s website -->\\n  <url>http://www.example.com</url>\\n\\n  <dependencies>\\n    <dependency>\\n      <groupId>org.springframework.security</groupId>\\n      <artifactId>spring-security-core</artifactId>\\n    </dependency>\\n    <dependency>\\n      <groupId>org.slf4j</groupId>\\n      <artifactId>slf4j-api</artifactId>\\n    </dependency>\\n    <dependency>\\n      <groupId>org.springframework</groupId>\\n      <artifactId>spring-tx</artifactId>\\n    </dependency>\\n    <dependency>\\n      <groupId>org.springframework</groupId>\\n      <artifactId>spring-context</artifactId>\\n    </dependency>\\n    <dependency>\\n      <groupId>ar.edu.itba.paw</groupId>\\n      <artifactId>interfaces</artifactId>\\n      <version>${project.version}</version>\\n    </dependency>\\n    <dependency>\\n      <groupId>ar.edu.itba.paw</groupId>\\n      <artifactId>persistance</artifactId>\\n      <version>${project.version}</version>\\n      <scope>runtime</scope>\\n    </dependency>\\n    <dependency>\\n      <groupId>org.mockito</groupId>\\n      <artifactId>mockito-core</artifactId>\\n    </dependency>\\n    <dependency>\\n      <groupId>junit</groupId>\\n      <artifactId>junit</artifactId>\\n    </dependency>\\n    <dependency>\\n      <groupId>org.springframework</groupId>\\n      <artifactId>spring-webmvc</artifactId>\\n    </dependency>\\n    <dependency>\\n      <groupId>org.springframework</groupId>\\n      <artifactId>spring-context-support</artifactId>\\n    </dependency>\\n    <dependency>\\n      <groupId>com.sun.mail</groupId>\\n      <artifactId>javax.mail</artifactId>\\n    </dependency>\\n    <dependency>\\n      <groupId>org.thymeleaf</groupId>\\n      <artifactId>thymeleaf</artifactId>\\n      <version>${thymeleaf.version}</version>\\n    </dependency>\\n    <dependency>\\n      <groupId>org.thymeleaf</groupId>\\n      <artifactId>thymeleaf-spring5</artifactId>\\n    </dependency>\\n    <dependency>\\n      <groupId>org.thymeleaf.extras</groupId>\\n      <artifactId>thymeleaf-extras-java8time</artifactId>\\n    </dependency>\\n  </dependencies>\\n\\n  <build>\\n    <pluginManagement><!-- lock down plugins versions to avoid using Maven defaults (may be moved to parent pom) -->\\n      <plugins>\\n        <!-- clean lifecycle, see https://maven.apache.org/ref/current/maven-core/lifecycles.html#clean_Lifecycle -->\\n        <plugin>\\n          <artifactId>maven-clean-plugin</artifactId>\\n          <version>3.1.0</version>\\n        </plugin>\\n        <!-- default lifecycle, jar packaging: see https://maven.apache.org/ref/current/maven-core/default-bindings.html#Plugin_bindings_for_jar_packaging -->\\n        <plugin>\\n          <artifactId>maven-resources-plugin</artifactId>\\n          <version>3.0.2</version>\\n        </plugin>\\n        <plugin>\\n          <artifactId>maven-compiler-plugin</artifactId>\\n          <version>3.8.0</version>\\n        </plugin>\\n        <plugin>\\n          <artifactId>maven-surefire-plugin</artifactId>\\n          <version>2.22.1</version>\\n        </plugin>\\n        <plugin>\\n          <artifactId>maven-jar-plugin</artifactId>\\n          <version>3.0.2</version>\\n        </plugin>\\n        <plugin>\\n          <artifactId>maven-install-plugin</artifactId>\\n          <version>2.5.2</version>\\n        </plugin>\\n        <plugin>\\n          <artifactId>maven-deploy-plugin</artifactId>\\n          <version>2.8.2</version>\\n        </plugin>\\n        <!-- site lifecycle, see https://maven.apache.org/ref/current/maven-core/lifecycles.html#site_Lifecycle -->\\n        <plugin>\\n          <artifactId>maven-site-plugin</artifactId>\\n          <version>3.7.1</version>\\n        </plugin>\\n        <plugin>\\n          <artifactId>maven-project-info-reports-plugin</artifactId>\\n          <version>3.0.0</version>\\n        </plugin>\\n      </plugins>\\n    </pluginManagement>\\n  </build>\\n</project>\\n',\n",
       " '<?xml version=\"1.0\" encoding=\"UTF-8\"?>\\n<project xmlns=\"http://maven.apache.org/POM/4.0.0\" xmlns:xsi=\"http://www.w3.org/2001/XMLSchema-instance\" xsi:schemaLocation=\"http://maven.apache.org/POM/4.0.0 http://maven.apache.org/xsd/maven-4.0.0.xsd\">\\n  <modelVersion>4.0.0</modelVersion>\\n  <parent>\\n    <artifactId>paw2024</artifactId>\\n    <groupId>ar.edu.itba.paw</groupId>\\n    <version>1.0-SNAPSHOT</version>\\n  </parent>\\n\\n  <groupId>ar.edu.itba.paw</groupId>\\n  <artifactId>models</artifactId>\\n  <version>1.0-SNAPSHOT</version>\\n\\n  <name>models</name>\\n  <!-- FIXME change it to the project\\'s website -->\\n  <url>http://www.example.com</url>\\n\\n<dependencies>\\n  <dependency>\\n    <groupId>javax.persistence</groupId>\\n    <artifactId>javax.persistence-api</artifactId>\\n  </dependency>\\n  <dependency>\\n    <groupId>org.hibernate</groupId>\\n    <artifactId>hibernate-core</artifactId>\\n  </dependency>\\n\\n</dependencies>\\n\\n  <build>\\n    <pluginManagement><!-- lock down plugins versions to avoid using Maven defaults (may be moved to parent pom) -->\\n      <plugins>\\n        <!-- clean lifecycle, see https://maven.apache.org/ref/current/maven-core/lifecycles.html#clean_Lifecycle -->\\n        <plugin>\\n          <artifactId>maven-clean-plugin</artifactId>\\n          <version>3.1.0</version>\\n        </plugin>\\n        <!-- default lifecycle, jar packaging: see https://maven.apache.org/ref/current/maven-core/default-bindings.html#Plugin_bindings_for_jar_packaging -->\\n        <plugin>\\n          <artifactId>maven-resources-plugin</artifactId>\\n          <version>3.0.2</version>\\n        </plugin>\\n        <plugin>\\n          <artifactId>maven-compiler-plugin</artifactId>\\n          <version>3.8.0</version>\\n        </plugin>\\n        <plugin>\\n          <artifactId>maven-surefire-plugin</artifactId>\\n          <version>2.22.1</version>\\n        </plugin>\\n        <plugin>\\n          <artifactId>maven-jar-plugin</artifactId>\\n          <version>3.0.2</version>\\n        </plugin>\\n        <plugin>\\n          <artifactId>maven-install-plugin</artifactId>\\n          <version>2.5.2</version>\\n        </plugin>\\n        <plugin>\\n          <artifactId>maven-deploy-plugin</artifactId>\\n          <version>2.8.2</version>\\n        </plugin>\\n        <!-- site lifecycle, see https://maven.apache.org/ref/current/maven-core/lifecycles.html#site_Lifecycle -->\\n        <plugin>\\n          <artifactId>maven-site-plugin</artifactId>\\n          <version>3.7.1</version>\\n        </plugin>\\n        <plugin>\\n          <artifactId>maven-project-info-reports-plugin</artifactId>\\n          <version>3.0.0</version>\\n        </plugin>\\n      </plugins>\\n    </pluginManagement>\\n  </build>\\n</project>\\n',\n",
       " '<?xml version=\"1.0\" encoding=\"UTF-8\"?>\\n<project xmlns=\"http://maven.apache.org/POM/4.0.0\" xmlns:xsi=\"http://www.w3.org/2001/XMLSchema-instance\" xsi:schemaLocation=\"http://maven.apache.org/POM/4.0.0 http://maven.apache.org/xsd/maven-4.0.0.xsd\">\\n  <modelVersion>4.0.0</modelVersion>\\n  <parent>\\n    <artifactId>paw2024</artifactId>\\n    <groupId>ar.edu.itba.paw</groupId>\\n    <version>1.0-SNAPSHOT</version>\\n  </parent>\\n\\n  <groupId>ar.edu.itba.paw</groupId>\\n  <artifactId>persistance</artifactId>\\n  <version>1.0-SNAPSHOT</version>\\n\\n  <name>persistance</name>\\n  <!-- FIXME change it to the project\\'s website -->\\n  <url>http://www.example.com</url>\\n\\n  <dependencies>\\n    <dependency>\\n      <groupId>org.springframework</groupId>\\n      <artifactId>spring-context</artifactId>\\n    </dependency>\\n    <dependency>\\n      <groupId>org.springframework</groupId>\\n      <artifactId>spring-orm</artifactId>\\n    </dependency>\\n    <dependency>\\n      <groupId>org.hibernate</groupId>\\n      <artifactId>hibernate-core</artifactId>\\n    </dependency>\\n    <dependency>\\n      <groupId>org.hibernate</groupId>\\n      <artifactId>hibernate-entitymanager</artifactId>\\n    </dependency>\\n    <dependency>\\n      <groupId>ar.edu.itba.paw</groupId>\\n      <artifactId>interfaces</artifactId>\\n      <version>${project.version}</version>\\n    </dependency>\\n    <dependency>\\n      <groupId>org.springframework</groupId>\\n      <artifactId>spring-test</artifactId>\\n    </dependency>\\n    <dependency>\\n      <groupId>org.hsqldb</groupId>\\n      <artifactId>hsqldb</artifactId>\\n    </dependency>\\n    <dependency>\\n      <groupId>junit</groupId>\\n      <artifactId>junit</artifactId>\\n    </dependency>\\n  </dependencies>\\n\\n\\n  <build>\\n    <pluginManagement><!-- lock down plugins versions to avoid using Maven defaults (may be moved to parent pom) -->\\n      <plugins>\\n        <!-- clean lifecycle, see https://maven.apache.org/ref/current/maven-core/lifecycles.html#clean_Lifecycle -->\\n        <plugin>\\n          <artifactId>maven-clean-plugin</artifactId>\\n          <version>3.1.0</version>\\n        </plugin>\\n        <!-- default lifecycle, jar packaging: see https://maven.apache.org/ref/current/maven-core/default-bindings.html#Plugin_bindings_for_jar_packaging -->\\n        <plugin>\\n          <artifactId>maven-resources-plugin</artifactId>\\n          <version>3.0.2</version>\\n        </plugin>\\n        <plugin>\\n          <artifactId>maven-compiler-plugin</artifactId>\\n          <version>3.8.0</version>\\n        </plugin>\\n        <plugin>\\n          <artifactId>maven-surefire-plugin</artifactId>\\n          <version>2.22.1</version>\\n        </plugin>\\n        <plugin>\\n          <artifactId>maven-jar-plugin</artifactId>\\n          <version>3.0.2</version>\\n        </plugin>\\n        <plugin>\\n          <artifactId>maven-install-plugin</artifactId>\\n          <version>2.5.2</version>\\n        </plugin>\\n        <plugin>\\n          <artifactId>maven-deploy-plugin</artifactId>\\n          <version>2.8.2</version>\\n        </plugin>\\n        <!-- site lifecycle, see https://maven.apache.org/ref/current/maven-core/lifecycles.html#site_Lifecycle -->\\n        <plugin>\\n          <artifactId>maven-site-plugin</artifactId>\\n          <version>3.7.1</version>\\n        </plugin>\\n        <plugin>\\n          <artifactId>maven-project-info-reports-plugin</artifactId>\\n          <version>3.0.0</version>\\n        </plugin>\\n      </plugins>\\n    </pluginManagement>\\n  </build>\\n</project>\\n']"
      ]
     },
     "execution_count": 14,
     "metadata": {},
     "output_type": "execute_result"
    }
   ],
   "source": [
    "query=\"Que dependencias hay en los pom.xml\"\n",
    "project_and_plot_relevant_docs(query, title=query)"
   ]
  }
 ],
 "metadata": {
  "kernelspec": {
   "display_name": "codebase-rag (3.11.2)",
   "language": "python",
   "name": "python3"
  },
  "language_info": {
   "codemirror_mode": {
    "name": "ipython",
    "version": 3
   },
   "file_extension": ".py",
   "mimetype": "text/x-python",
   "name": "python",
   "nbconvert_exporter": "python",
   "pygments_lexer": "ipython3",
   "version": "3.11.2"
  }
 },
 "nbformat": 4,
 "nbformat_minor": 5
}
